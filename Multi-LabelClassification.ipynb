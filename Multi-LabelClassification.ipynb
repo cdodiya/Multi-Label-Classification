{
  "nbformat": 4,
  "nbformat_minor": 0,
  "metadata": {
    "colab": {
      "provenance": []
    },
    "kernelspec": {
      "name": "python3",
      "display_name": "Python 3"
    },
    "language_info": {
      "name": "python"
    },
    "accelerator": "GPU"
  },
  "cells": [
    {
      "cell_type": "markdown",
      "source": [
        "#**Multi-label Classification**\n",
        "\n",
        "\n",
        "---\n",
        "\n",
        "\n",
        "### Problem Statement\n",
        "Create a multi-label genre classification model using Tensorflow that automatically\n",
        "assigns genre names looking at the summary of the movie.\n",
        "1. Use pre-built embeddings for your data dictionary\n",
        "2. Train the model using Transformer/Attention based architecture\n",
        "3. Reach an overall “precision” score of 70%\n",
        "4. Use TF serving to deploy the model as an API (on local)\n",
        "5. Build a TF serving client to interact with the API. This client should also be able\n",
        "to continuously accept data entered by the user and provide the genre for the\n",
        "chat entered by the end-user.\n",
        "\n",
        "\n",
        "---\n",
        "\n",
        "### Dataset\n",
        "\n",
        "CMU Movie Summary Corpus - http://www.cs.cmu.edu/~ark/personas/\n",
        "Or download from - http://www.cs.cmu.edu/~ark/personas/data/MovieSummaries.tar.gz\n",
        "\n",
        "\n",
        "\n",
        "---\n",
        "\n",
        "\n",
        "### Approach\n",
        "1. We have used pre-trained BERT model from [Tenorflow Hub](https://tfhub.dev/tensorflow/bert_en_uncased_L-12_H-768_A-12/4) and finetuned it to match the number of classes i.e. genres\n",
        "2. Serving is done using [Tensorflow Model Serve](https://www.tensorflow.org/tfx/guide/serving)\n",
        "3. Client is build using Flask and port forwarding is done using [ngrok](https://ngrok.com/) / [flask-ngrok](https://pypi.org/project/flask-ngrok/)\n"
      ],
      "metadata": {
        "id": "QH7DF3OsMVne"
      }
    },
    {
      "cell_type": "markdown",
      "source": [
        "##Downloading Data"
      ],
      "metadata": {
        "id": "UfnKhDwRMkAr"
      }
    },
    {
      "cell_type": "markdown",
      "source": [
        "We use wget to download data through a link"
      ],
      "metadata": {
        "id": "cayM6ISrMncX"
      }
    },
    {
      "cell_type": "code",
      "execution_count": null,
      "metadata": {
        "colab": {
          "base_uri": "https://localhost:8080/"
        },
        "id": "Kd27gxatOvdE",
        "outputId": "6ec024a3-73da-4473-a08e-24694eca4171"
      },
      "outputs": [
        {
          "output_type": "stream",
          "name": "stdout",
          "text": [
            "--2022-10-18 18:19:11--  http://www.cs.cmu.edu/~ark/personas/data/MovieSummaries.tar.gz\n",
            "Resolving www.cs.cmu.edu (www.cs.cmu.edu)... 128.2.42.95\n",
            "Connecting to www.cs.cmu.edu (www.cs.cmu.edu)|128.2.42.95|:80... connected.\n",
            "HTTP request sent, awaiting response... 200 OK\n",
            "Length: 48002242 (46M) [application/x-gzip]\n",
            "Saving to: ‘MovieSummaries.tar.gz.1’\n",
            "\n",
            "MovieSummaries.tar. 100%[===================>]  45.78M   354KB/s    in 78s     \n",
            "\n",
            "2022-10-18 18:20:29 (602 KB/s) - ‘MovieSummaries.tar.gz.1’ saved [48002242/48002242]\n",
            "\n"
          ]
        }
      ],
      "source": [
        "!wget http://www.cs.cmu.edu/~ark/personas/data/MovieSummaries.tar.gz"
      ]
    },
    {
      "cell_type": "markdown",
      "source": [
        "Extracting the gzip file"
      ],
      "metadata": {
        "id": "Tq9meOZ2MrPD"
      }
    },
    {
      "cell_type": "code",
      "source": [
        "!tar -xvzf MovieSummaries.tar.gz"
      ],
      "metadata": {
        "colab": {
          "base_uri": "https://localhost:8080/"
        },
        "id": "CMf_uknrO377",
        "outputId": "1ca96679-ad76-4972-f9fc-6b335b80750f"
      },
      "execution_count": null,
      "outputs": [
        {
          "output_type": "stream",
          "name": "stdout",
          "text": [
            "MovieSummaries/\n",
            "MovieSummaries/tvtropes.clusters.txt\n",
            "MovieSummaries/name.clusters.txt\n",
            "MovieSummaries/plot_summaries.txt\n",
            "MovieSummaries/README.txt\n",
            "MovieSummaries/movie.metadata.tsv\n",
            "MovieSummaries/character.metadata.tsv\n"
          ]
        }
      ]
    },
    {
      "cell_type": "markdown",
      "source": [
        "##Cleaning Data"
      ],
      "metadata": {
        "id": "XwAN1UbsMwl9"
      }
    },
    {
      "cell_type": "code",
      "source": [
        "import pandas as pd\n",
        "import re"
      ],
      "metadata": {
        "id": "83k8D_BLO5qN"
      },
      "execution_count": null,
      "outputs": []
    },
    {
      "cell_type": "code",
      "source": [
        "# This are the columns in move.metadata.tsv file\n",
        "movie_metadata_names=[ \"Wikipedia movie ID\",\n",
        "\"Freebase movie ID\",\n",
        "\"Movie name\",\n",
        "\"Movie release date\",\n",
        "\"Movie box office revenue\",\n",
        "\"Movie runtime\",\n",
        "\"Movie languages\",\n",
        "\"Movie countries\",\n",
        "\"Movie genres\"]"
      ],
      "metadata": {
        "id": "0G3U6bGcO89-"
      },
      "execution_count": null,
      "outputs": []
    },
    {
      "cell_type": "code",
      "source": [
        "#reading data\n",
        "movie_metadata=pd.read_csv('/content/MovieSummaries/movie.metadata.tsv',sep='\\t',names=movie_metadata_names)"
      ],
      "metadata": {
        "id": "Y0fKhytGO9-l"
      },
      "execution_count": null,
      "outputs": []
    },
    {
      "cell_type": "code",
      "source": [
        "# Droping the unwanted columns\n",
        "movie_metadata=movie_metadata.drop(columns=[\"Freebase movie ID\",\n",
        "\"Movie name\",\n",
        "\"Movie release date\",\n",
        "\"Movie box office revenue\",\n",
        "\"Movie runtime\",\n",
        "\"Movie languages\",\n",
        "\"Movie countries\",])"
      ],
      "metadata": {
        "id": "gBcMVLWOO_0R"
      },
      "execution_count": null,
      "outputs": []
    },
    {
      "cell_type": "code",
      "source": [
        "movie_metadata"
      ],
      "metadata": {
        "colab": {
          "base_uri": "https://localhost:8080/",
          "height": 424
        },
        "id": "qV1dGNLrPBhg",
        "outputId": "5674fb63-ae57-4950-befd-53fbbed3eed7"
      },
      "execution_count": null,
      "outputs": [
        {
          "output_type": "execute_result",
          "data": {
            "text/plain": [
              "       Wikipedia movie ID                                       Movie genres\n",
              "0                  975900  {\"/m/01jfsb\": \"Thriller\", \"/m/06n90\": \"Science...\n",
              "1                 3196793  {\"/m/02n4kr\": \"Mystery\", \"/m/03bxz7\": \"Biograp...\n",
              "2                28463795  {\"/m/0lsxr\": \"Crime Fiction\", \"/m/07s9rl0\": \"D...\n",
              "3                 9363483  {\"/m/01jfsb\": \"Thriller\", \"/m/0glj9q\": \"Erotic...\n",
              "4                  261236                            {\"/m/07s9rl0\": \"Drama\"}\n",
              "...                   ...                                                ...\n",
              "81736            35228177                            {\"/m/07s9rl0\": \"Drama\"}\n",
              "81737            34980460  {\"/m/03bxz7\": \"Biographical film\", \"/m/07s9rl0...\n",
              "81738             9971909       {\"/m/06nbt\": \"Satire\", \"/m/01z4y\": \"Comedy\"}\n",
              "81739              913762  {\"/m/06n90\": \"Science Fiction\", \"/m/0gw5n2f\": ...\n",
              "81740            12476867  {\"/m/01jfsb\": \"Thriller\", \"/m/03npn\": \"Horror\"...\n",
              "\n",
              "[81741 rows x 2 columns]"
            ],
            "text/html": [
              "\n",
              "  <div id=\"df-a8cc421f-4afa-465b-bc17-1548a494d4f1\">\n",
              "    <div class=\"colab-df-container\">\n",
              "      <div>\n",
              "<style scoped>\n",
              "    .dataframe tbody tr th:only-of-type {\n",
              "        vertical-align: middle;\n",
              "    }\n",
              "\n",
              "    .dataframe tbody tr th {\n",
              "        vertical-align: top;\n",
              "    }\n",
              "\n",
              "    .dataframe thead th {\n",
              "        text-align: right;\n",
              "    }\n",
              "</style>\n",
              "<table border=\"1\" class=\"dataframe\">\n",
              "  <thead>\n",
              "    <tr style=\"text-align: right;\">\n",
              "      <th></th>\n",
              "      <th>Wikipedia movie ID</th>\n",
              "      <th>Movie genres</th>\n",
              "    </tr>\n",
              "  </thead>\n",
              "  <tbody>\n",
              "    <tr>\n",
              "      <th>0</th>\n",
              "      <td>975900</td>\n",
              "      <td>{\"/m/01jfsb\": \"Thriller\", \"/m/06n90\": \"Science...</td>\n",
              "    </tr>\n",
              "    <tr>\n",
              "      <th>1</th>\n",
              "      <td>3196793</td>\n",
              "      <td>{\"/m/02n4kr\": \"Mystery\", \"/m/03bxz7\": \"Biograp...</td>\n",
              "    </tr>\n",
              "    <tr>\n",
              "      <th>2</th>\n",
              "      <td>28463795</td>\n",
              "      <td>{\"/m/0lsxr\": \"Crime Fiction\", \"/m/07s9rl0\": \"D...</td>\n",
              "    </tr>\n",
              "    <tr>\n",
              "      <th>3</th>\n",
              "      <td>9363483</td>\n",
              "      <td>{\"/m/01jfsb\": \"Thriller\", \"/m/0glj9q\": \"Erotic...</td>\n",
              "    </tr>\n",
              "    <tr>\n",
              "      <th>4</th>\n",
              "      <td>261236</td>\n",
              "      <td>{\"/m/07s9rl0\": \"Drama\"}</td>\n",
              "    </tr>\n",
              "    <tr>\n",
              "      <th>...</th>\n",
              "      <td>...</td>\n",
              "      <td>...</td>\n",
              "    </tr>\n",
              "    <tr>\n",
              "      <th>81736</th>\n",
              "      <td>35228177</td>\n",
              "      <td>{\"/m/07s9rl0\": \"Drama\"}</td>\n",
              "    </tr>\n",
              "    <tr>\n",
              "      <th>81737</th>\n",
              "      <td>34980460</td>\n",
              "      <td>{\"/m/03bxz7\": \"Biographical film\", \"/m/07s9rl0...</td>\n",
              "    </tr>\n",
              "    <tr>\n",
              "      <th>81738</th>\n",
              "      <td>9971909</td>\n",
              "      <td>{\"/m/06nbt\": \"Satire\", \"/m/01z4y\": \"Comedy\"}</td>\n",
              "    </tr>\n",
              "    <tr>\n",
              "      <th>81739</th>\n",
              "      <td>913762</td>\n",
              "      <td>{\"/m/06n90\": \"Science Fiction\", \"/m/0gw5n2f\": ...</td>\n",
              "    </tr>\n",
              "    <tr>\n",
              "      <th>81740</th>\n",
              "      <td>12476867</td>\n",
              "      <td>{\"/m/01jfsb\": \"Thriller\", \"/m/03npn\": \"Horror\"...</td>\n",
              "    </tr>\n",
              "  </tbody>\n",
              "</table>\n",
              "<p>81741 rows × 2 columns</p>\n",
              "</div>\n",
              "      <button class=\"colab-df-convert\" onclick=\"convertToInteractive('df-a8cc421f-4afa-465b-bc17-1548a494d4f1')\"\n",
              "              title=\"Convert this dataframe to an interactive table.\"\n",
              "              style=\"display:none;\">\n",
              "        \n",
              "  <svg xmlns=\"http://www.w3.org/2000/svg\" height=\"24px\"viewBox=\"0 0 24 24\"\n",
              "       width=\"24px\">\n",
              "    <path d=\"M0 0h24v24H0V0z\" fill=\"none\"/>\n",
              "    <path d=\"M18.56 5.44l.94 2.06.94-2.06 2.06-.94-2.06-.94-.94-2.06-.94 2.06-2.06.94zm-11 1L8.5 8.5l.94-2.06 2.06-.94-2.06-.94L8.5 2.5l-.94 2.06-2.06.94zm10 10l.94 2.06.94-2.06 2.06-.94-2.06-.94-.94-2.06-.94 2.06-2.06.94z\"/><path d=\"M17.41 7.96l-1.37-1.37c-.4-.4-.92-.59-1.43-.59-.52 0-1.04.2-1.43.59L10.3 9.45l-7.72 7.72c-.78.78-.78 2.05 0 2.83L4 21.41c.39.39.9.59 1.41.59.51 0 1.02-.2 1.41-.59l7.78-7.78 2.81-2.81c.8-.78.8-2.07 0-2.86zM5.41 20L4 18.59l7.72-7.72 1.47 1.35L5.41 20z\"/>\n",
              "  </svg>\n",
              "      </button>\n",
              "      \n",
              "  <style>\n",
              "    .colab-df-container {\n",
              "      display:flex;\n",
              "      flex-wrap:wrap;\n",
              "      gap: 12px;\n",
              "    }\n",
              "\n",
              "    .colab-df-convert {\n",
              "      background-color: #E8F0FE;\n",
              "      border: none;\n",
              "      border-radius: 50%;\n",
              "      cursor: pointer;\n",
              "      display: none;\n",
              "      fill: #1967D2;\n",
              "      height: 32px;\n",
              "      padding: 0 0 0 0;\n",
              "      width: 32px;\n",
              "    }\n",
              "\n",
              "    .colab-df-convert:hover {\n",
              "      background-color: #E2EBFA;\n",
              "      box-shadow: 0px 1px 2px rgba(60, 64, 67, 0.3), 0px 1px 3px 1px rgba(60, 64, 67, 0.15);\n",
              "      fill: #174EA6;\n",
              "    }\n",
              "\n",
              "    [theme=dark] .colab-df-convert {\n",
              "      background-color: #3B4455;\n",
              "      fill: #D2E3FC;\n",
              "    }\n",
              "\n",
              "    [theme=dark] .colab-df-convert:hover {\n",
              "      background-color: #434B5C;\n",
              "      box-shadow: 0px 1px 3px 1px rgba(0, 0, 0, 0.15);\n",
              "      filter: drop-shadow(0px 1px 2px rgba(0, 0, 0, 0.3));\n",
              "      fill: #FFFFFF;\n",
              "    }\n",
              "  </style>\n",
              "\n",
              "      <script>\n",
              "        const buttonEl =\n",
              "          document.querySelector('#df-a8cc421f-4afa-465b-bc17-1548a494d4f1 button.colab-df-convert');\n",
              "        buttonEl.style.display =\n",
              "          google.colab.kernel.accessAllowed ? 'block' : 'none';\n",
              "\n",
              "        async function convertToInteractive(key) {\n",
              "          const element = document.querySelector('#df-a8cc421f-4afa-465b-bc17-1548a494d4f1');\n",
              "          const dataTable =\n",
              "            await google.colab.kernel.invokeFunction('convertToInteractive',\n",
              "                                                     [key], {});\n",
              "          if (!dataTable) return;\n",
              "\n",
              "          const docLinkHtml = 'Like what you see? Visit the ' +\n",
              "            '<a target=\"_blank\" href=https://colab.research.google.com/notebooks/data_table.ipynb>data table notebook</a>'\n",
              "            + ' to learn more about interactive tables.';\n",
              "          element.innerHTML = '';\n",
              "          dataTable['output_type'] = 'display_data';\n",
              "          await google.colab.output.renderOutput(dataTable, element);\n",
              "          const docLink = document.createElement('div');\n",
              "          docLink.innerHTML = docLinkHtml;\n",
              "          element.appendChild(docLink);\n",
              "        }\n",
              "      </script>\n",
              "    </div>\n",
              "  </div>\n",
              "  "
            ]
          },
          "metadata": {},
          "execution_count": 7
        }
      ]
    },
    {
      "cell_type": "code",
      "source": [
        "# Cleaning Movie genres column and converting it to list\n",
        "movie_metadata[\"Movie genres\"] = movie_metadata[\"Movie genres\"].map(lambda genres: list(eval(genres).values()))"
      ],
      "metadata": {
        "id": "AGuYNAzFPDS_"
      },
      "execution_count": null,
      "outputs": []
    },
    {
      "cell_type": "markdown",
      "source": [
        "Reading second file"
      ],
      "metadata": {
        "id": "f8zIPqIINNau"
      }
    },
    {
      "cell_type": "code",
      "source": [
        "plot_summaries=pd.read_csv('/content/MovieSummaries/plot_summaries.txt',sep='\\t',names=[\"Wikipedia movie ID\",\"Summary\"])"
      ],
      "metadata": {
        "id": "GDPpfQ_WPFWC"
      },
      "execution_count": null,
      "outputs": []
    },
    {
      "cell_type": "code",
      "source": [
        "plot_summaries"
      ],
      "metadata": {
        "colab": {
          "base_uri": "https://localhost:8080/",
          "height": 424
        },
        "id": "ZzjLdtojPJrH",
        "outputId": "d9fe8661-1c79-48a7-deb4-8f6a6b91decf"
      },
      "execution_count": null,
      "outputs": [
        {
          "output_type": "execute_result",
          "data": {
            "text/plain": [
              "       Wikipedia movie ID                                            Summary\n",
              "0                23890098  Shlykov, a hard-working taxi driver and Lyosha...\n",
              "1                31186339  The nation of Panem consists of a wealthy Capi...\n",
              "2                20663735  Poovalli Induchoodan  is sentenced for six yea...\n",
              "3                 2231378  The Lemon Drop Kid , a New York City swindler,...\n",
              "4                  595909  Seventh-day Adventist Church pastor Michael Ch...\n",
              "...                   ...                                                ...\n",
              "42298            34808485  The story is about Reema , a young Muslim scho...\n",
              "42299             1096473  In 1928 Hollywood, director Leo Andreyev  look...\n",
              "42300            35102018  American Luthier focuses on Randy Parsons’ tra...\n",
              "42301             8628195  Abdur Rehman Khan , a middle-aged dry fruit se...\n",
              "42302             6040782  1940 - Operation Dynamo has just taken place. ...\n",
              "\n",
              "[42303 rows x 2 columns]"
            ],
            "text/html": [
              "\n",
              "  <div id=\"df-d5d0af6b-69b1-4491-9674-fa4d8864f797\">\n",
              "    <div class=\"colab-df-container\">\n",
              "      <div>\n",
              "<style scoped>\n",
              "    .dataframe tbody tr th:only-of-type {\n",
              "        vertical-align: middle;\n",
              "    }\n",
              "\n",
              "    .dataframe tbody tr th {\n",
              "        vertical-align: top;\n",
              "    }\n",
              "\n",
              "    .dataframe thead th {\n",
              "        text-align: right;\n",
              "    }\n",
              "</style>\n",
              "<table border=\"1\" class=\"dataframe\">\n",
              "  <thead>\n",
              "    <tr style=\"text-align: right;\">\n",
              "      <th></th>\n",
              "      <th>Wikipedia movie ID</th>\n",
              "      <th>Summary</th>\n",
              "    </tr>\n",
              "  </thead>\n",
              "  <tbody>\n",
              "    <tr>\n",
              "      <th>0</th>\n",
              "      <td>23890098</td>\n",
              "      <td>Shlykov, a hard-working taxi driver and Lyosha...</td>\n",
              "    </tr>\n",
              "    <tr>\n",
              "      <th>1</th>\n",
              "      <td>31186339</td>\n",
              "      <td>The nation of Panem consists of a wealthy Capi...</td>\n",
              "    </tr>\n",
              "    <tr>\n",
              "      <th>2</th>\n",
              "      <td>20663735</td>\n",
              "      <td>Poovalli Induchoodan  is sentenced for six yea...</td>\n",
              "    </tr>\n",
              "    <tr>\n",
              "      <th>3</th>\n",
              "      <td>2231378</td>\n",
              "      <td>The Lemon Drop Kid , a New York City swindler,...</td>\n",
              "    </tr>\n",
              "    <tr>\n",
              "      <th>4</th>\n",
              "      <td>595909</td>\n",
              "      <td>Seventh-day Adventist Church pastor Michael Ch...</td>\n",
              "    </tr>\n",
              "    <tr>\n",
              "      <th>...</th>\n",
              "      <td>...</td>\n",
              "      <td>...</td>\n",
              "    </tr>\n",
              "    <tr>\n",
              "      <th>42298</th>\n",
              "      <td>34808485</td>\n",
              "      <td>The story is about Reema , a young Muslim scho...</td>\n",
              "    </tr>\n",
              "    <tr>\n",
              "      <th>42299</th>\n",
              "      <td>1096473</td>\n",
              "      <td>In 1928 Hollywood, director Leo Andreyev  look...</td>\n",
              "    </tr>\n",
              "    <tr>\n",
              "      <th>42300</th>\n",
              "      <td>35102018</td>\n",
              "      <td>American Luthier focuses on Randy Parsons’ tra...</td>\n",
              "    </tr>\n",
              "    <tr>\n",
              "      <th>42301</th>\n",
              "      <td>8628195</td>\n",
              "      <td>Abdur Rehman Khan , a middle-aged dry fruit se...</td>\n",
              "    </tr>\n",
              "    <tr>\n",
              "      <th>42302</th>\n",
              "      <td>6040782</td>\n",
              "      <td>1940 - Operation Dynamo has just taken place. ...</td>\n",
              "    </tr>\n",
              "  </tbody>\n",
              "</table>\n",
              "<p>42303 rows × 2 columns</p>\n",
              "</div>\n",
              "      <button class=\"colab-df-convert\" onclick=\"convertToInteractive('df-d5d0af6b-69b1-4491-9674-fa4d8864f797')\"\n",
              "              title=\"Convert this dataframe to an interactive table.\"\n",
              "              style=\"display:none;\">\n",
              "        \n",
              "  <svg xmlns=\"http://www.w3.org/2000/svg\" height=\"24px\"viewBox=\"0 0 24 24\"\n",
              "       width=\"24px\">\n",
              "    <path d=\"M0 0h24v24H0V0z\" fill=\"none\"/>\n",
              "    <path d=\"M18.56 5.44l.94 2.06.94-2.06 2.06-.94-2.06-.94-.94-2.06-.94 2.06-2.06.94zm-11 1L8.5 8.5l.94-2.06 2.06-.94-2.06-.94L8.5 2.5l-.94 2.06-2.06.94zm10 10l.94 2.06.94-2.06 2.06-.94-2.06-.94-.94-2.06-.94 2.06-2.06.94z\"/><path d=\"M17.41 7.96l-1.37-1.37c-.4-.4-.92-.59-1.43-.59-.52 0-1.04.2-1.43.59L10.3 9.45l-7.72 7.72c-.78.78-.78 2.05 0 2.83L4 21.41c.39.39.9.59 1.41.59.51 0 1.02-.2 1.41-.59l7.78-7.78 2.81-2.81c.8-.78.8-2.07 0-2.86zM5.41 20L4 18.59l7.72-7.72 1.47 1.35L5.41 20z\"/>\n",
              "  </svg>\n",
              "      </button>\n",
              "      \n",
              "  <style>\n",
              "    .colab-df-container {\n",
              "      display:flex;\n",
              "      flex-wrap:wrap;\n",
              "      gap: 12px;\n",
              "    }\n",
              "\n",
              "    .colab-df-convert {\n",
              "      background-color: #E8F0FE;\n",
              "      border: none;\n",
              "      border-radius: 50%;\n",
              "      cursor: pointer;\n",
              "      display: none;\n",
              "      fill: #1967D2;\n",
              "      height: 32px;\n",
              "      padding: 0 0 0 0;\n",
              "      width: 32px;\n",
              "    }\n",
              "\n",
              "    .colab-df-convert:hover {\n",
              "      background-color: #E2EBFA;\n",
              "      box-shadow: 0px 1px 2px rgba(60, 64, 67, 0.3), 0px 1px 3px 1px rgba(60, 64, 67, 0.15);\n",
              "      fill: #174EA6;\n",
              "    }\n",
              "\n",
              "    [theme=dark] .colab-df-convert {\n",
              "      background-color: #3B4455;\n",
              "      fill: #D2E3FC;\n",
              "    }\n",
              "\n",
              "    [theme=dark] .colab-df-convert:hover {\n",
              "      background-color: #434B5C;\n",
              "      box-shadow: 0px 1px 3px 1px rgba(0, 0, 0, 0.15);\n",
              "      filter: drop-shadow(0px 1px 2px rgba(0, 0, 0, 0.3));\n",
              "      fill: #FFFFFF;\n",
              "    }\n",
              "  </style>\n",
              "\n",
              "      <script>\n",
              "        const buttonEl =\n",
              "          document.querySelector('#df-d5d0af6b-69b1-4491-9674-fa4d8864f797 button.colab-df-convert');\n",
              "        buttonEl.style.display =\n",
              "          google.colab.kernel.accessAllowed ? 'block' : 'none';\n",
              "\n",
              "        async function convertToInteractive(key) {\n",
              "          const element = document.querySelector('#df-d5d0af6b-69b1-4491-9674-fa4d8864f797');\n",
              "          const dataTable =\n",
              "            await google.colab.kernel.invokeFunction('convertToInteractive',\n",
              "                                                     [key], {});\n",
              "          if (!dataTable) return;\n",
              "\n",
              "          const docLinkHtml = 'Like what you see? Visit the ' +\n",
              "            '<a target=\"_blank\" href=https://colab.research.google.com/notebooks/data_table.ipynb>data table notebook</a>'\n",
              "            + ' to learn more about interactive tables.';\n",
              "          element.innerHTML = '';\n",
              "          dataTable['output_type'] = 'display_data';\n",
              "          await google.colab.output.renderOutput(dataTable, element);\n",
              "          const docLink = document.createElement('div');\n",
              "          docLink.innerHTML = docLinkHtml;\n",
              "          element.appendChild(docLink);\n",
              "        }\n",
              "      </script>\n",
              "    </div>\n",
              "  </div>\n",
              "  "
            ]
          },
          "metadata": {},
          "execution_count": 10
        }
      ]
    },
    {
      "cell_type": "code",
      "source": [
        "dataset = pd.merge(movie_metadata,plot_summaries,on=\"Wikipedia movie ID\")"
      ],
      "metadata": {
        "id": "FSw6wuHPQuus"
      },
      "execution_count": null,
      "outputs": []
    },
    {
      "cell_type": "code",
      "source": [
        "dataset"
      ],
      "metadata": {
        "colab": {
          "base_uri": "https://localhost:8080/",
          "height": 424
        },
        "id": "BMN251N9Qw7R",
        "outputId": "7b2733e3-a49e-4896-a1a0-e86c0f142133"
      },
      "execution_count": null,
      "outputs": [
        {
          "output_type": "execute_result",
          "data": {
            "text/plain": [
              "       Wikipedia movie ID                                       Movie genres  \\\n",
              "0                  975900  [Thriller, Science Fiction, Horror, Adventure,...   \n",
              "1                 9363483  [Thriller, Erotic thriller, Psychological thri...   \n",
              "2                  261236                                            [Drama]   \n",
              "3                18998739    [Family Film, Fantasy, Adventure, World cinema]   \n",
              "4                 6631279  [Romantic comedy, Ensemble Film, Comedy-drama,...   \n",
              "...                   ...                                                ...   \n",
              "42199            23851782    [Crime Fiction, Thriller, Comedy, Supernatural]   \n",
              "42200            35228177                                            [Drama]   \n",
              "42201            34980460            [Biographical film, Drama, Documentary]   \n",
              "42202              913762  [Science Fiction, Japanese Movies, Adventure, ...   \n",
              "42203            12476867                  [Thriller, Horror, Slasher, Teen]   \n",
              "\n",
              "                                                 Summary  \n",
              "0      Set in the second half of the 22nd century, th...  \n",
              "1      A series of murders of rich young women throug...  \n",
              "2      Eva, an upper class housewife, becomes frustra...  \n",
              "3      Every hundred years, the evil Morgana  returns...  \n",
              "4      Adam, a San Francisco-based artist who works a...  \n",
              "...                                                  ...  \n",
              "42199  {{plot}} The film opens with a Great Western e...  \n",
              "42200  Two former National Oceanic Atmospheric Admini...  \n",
              "42201  {{No plot}} This film follows 12 years in the ...  \n",
              "42202  The story takes place in the year 2092,The Sup...  \n",
              "42203  The movie is about a teenage girl who loves ho...  \n",
              "\n",
              "[42204 rows x 3 columns]"
            ],
            "text/html": [
              "\n",
              "  <div id=\"df-ebf07b69-275b-45d2-beb5-291b81a151ac\">\n",
              "    <div class=\"colab-df-container\">\n",
              "      <div>\n",
              "<style scoped>\n",
              "    .dataframe tbody tr th:only-of-type {\n",
              "        vertical-align: middle;\n",
              "    }\n",
              "\n",
              "    .dataframe tbody tr th {\n",
              "        vertical-align: top;\n",
              "    }\n",
              "\n",
              "    .dataframe thead th {\n",
              "        text-align: right;\n",
              "    }\n",
              "</style>\n",
              "<table border=\"1\" class=\"dataframe\">\n",
              "  <thead>\n",
              "    <tr style=\"text-align: right;\">\n",
              "      <th></th>\n",
              "      <th>Wikipedia movie ID</th>\n",
              "      <th>Movie genres</th>\n",
              "      <th>Summary</th>\n",
              "    </tr>\n",
              "  </thead>\n",
              "  <tbody>\n",
              "    <tr>\n",
              "      <th>0</th>\n",
              "      <td>975900</td>\n",
              "      <td>[Thriller, Science Fiction, Horror, Adventure,...</td>\n",
              "      <td>Set in the second half of the 22nd century, th...</td>\n",
              "    </tr>\n",
              "    <tr>\n",
              "      <th>1</th>\n",
              "      <td>9363483</td>\n",
              "      <td>[Thriller, Erotic thriller, Psychological thri...</td>\n",
              "      <td>A series of murders of rich young women throug...</td>\n",
              "    </tr>\n",
              "    <tr>\n",
              "      <th>2</th>\n",
              "      <td>261236</td>\n",
              "      <td>[Drama]</td>\n",
              "      <td>Eva, an upper class housewife, becomes frustra...</td>\n",
              "    </tr>\n",
              "    <tr>\n",
              "      <th>3</th>\n",
              "      <td>18998739</td>\n",
              "      <td>[Family Film, Fantasy, Adventure, World cinema]</td>\n",
              "      <td>Every hundred years, the evil Morgana  returns...</td>\n",
              "    </tr>\n",
              "    <tr>\n",
              "      <th>4</th>\n",
              "      <td>6631279</td>\n",
              "      <td>[Romantic comedy, Ensemble Film, Comedy-drama,...</td>\n",
              "      <td>Adam, a San Francisco-based artist who works a...</td>\n",
              "    </tr>\n",
              "    <tr>\n",
              "      <th>...</th>\n",
              "      <td>...</td>\n",
              "      <td>...</td>\n",
              "      <td>...</td>\n",
              "    </tr>\n",
              "    <tr>\n",
              "      <th>42199</th>\n",
              "      <td>23851782</td>\n",
              "      <td>[Crime Fiction, Thriller, Comedy, Supernatural]</td>\n",
              "      <td>{{plot}} The film opens with a Great Western e...</td>\n",
              "    </tr>\n",
              "    <tr>\n",
              "      <th>42200</th>\n",
              "      <td>35228177</td>\n",
              "      <td>[Drama]</td>\n",
              "      <td>Two former National Oceanic Atmospheric Admini...</td>\n",
              "    </tr>\n",
              "    <tr>\n",
              "      <th>42201</th>\n",
              "      <td>34980460</td>\n",
              "      <td>[Biographical film, Drama, Documentary]</td>\n",
              "      <td>{{No plot}} This film follows 12 years in the ...</td>\n",
              "    </tr>\n",
              "    <tr>\n",
              "      <th>42202</th>\n",
              "      <td>913762</td>\n",
              "      <td>[Science Fiction, Japanese Movies, Adventure, ...</td>\n",
              "      <td>The story takes place in the year 2092,The Sup...</td>\n",
              "    </tr>\n",
              "    <tr>\n",
              "      <th>42203</th>\n",
              "      <td>12476867</td>\n",
              "      <td>[Thriller, Horror, Slasher, Teen]</td>\n",
              "      <td>The movie is about a teenage girl who loves ho...</td>\n",
              "    </tr>\n",
              "  </tbody>\n",
              "</table>\n",
              "<p>42204 rows × 3 columns</p>\n",
              "</div>\n",
              "      <button class=\"colab-df-convert\" onclick=\"convertToInteractive('df-ebf07b69-275b-45d2-beb5-291b81a151ac')\"\n",
              "              title=\"Convert this dataframe to an interactive table.\"\n",
              "              style=\"display:none;\">\n",
              "        \n",
              "  <svg xmlns=\"http://www.w3.org/2000/svg\" height=\"24px\"viewBox=\"0 0 24 24\"\n",
              "       width=\"24px\">\n",
              "    <path d=\"M0 0h24v24H0V0z\" fill=\"none\"/>\n",
              "    <path d=\"M18.56 5.44l.94 2.06.94-2.06 2.06-.94-2.06-.94-.94-2.06-.94 2.06-2.06.94zm-11 1L8.5 8.5l.94-2.06 2.06-.94-2.06-.94L8.5 2.5l-.94 2.06-2.06.94zm10 10l.94 2.06.94-2.06 2.06-.94-2.06-.94-.94-2.06-.94 2.06-2.06.94z\"/><path d=\"M17.41 7.96l-1.37-1.37c-.4-.4-.92-.59-1.43-.59-.52 0-1.04.2-1.43.59L10.3 9.45l-7.72 7.72c-.78.78-.78 2.05 0 2.83L4 21.41c.39.39.9.59 1.41.59.51 0 1.02-.2 1.41-.59l7.78-7.78 2.81-2.81c.8-.78.8-2.07 0-2.86zM5.41 20L4 18.59l7.72-7.72 1.47 1.35L5.41 20z\"/>\n",
              "  </svg>\n",
              "      </button>\n",
              "      \n",
              "  <style>\n",
              "    .colab-df-container {\n",
              "      display:flex;\n",
              "      flex-wrap:wrap;\n",
              "      gap: 12px;\n",
              "    }\n",
              "\n",
              "    .colab-df-convert {\n",
              "      background-color: #E8F0FE;\n",
              "      border: none;\n",
              "      border-radius: 50%;\n",
              "      cursor: pointer;\n",
              "      display: none;\n",
              "      fill: #1967D2;\n",
              "      height: 32px;\n",
              "      padding: 0 0 0 0;\n",
              "      width: 32px;\n",
              "    }\n",
              "\n",
              "    .colab-df-convert:hover {\n",
              "      background-color: #E2EBFA;\n",
              "      box-shadow: 0px 1px 2px rgba(60, 64, 67, 0.3), 0px 1px 3px 1px rgba(60, 64, 67, 0.15);\n",
              "      fill: #174EA6;\n",
              "    }\n",
              "\n",
              "    [theme=dark] .colab-df-convert {\n",
              "      background-color: #3B4455;\n",
              "      fill: #D2E3FC;\n",
              "    }\n",
              "\n",
              "    [theme=dark] .colab-df-convert:hover {\n",
              "      background-color: #434B5C;\n",
              "      box-shadow: 0px 1px 3px 1px rgba(0, 0, 0, 0.15);\n",
              "      filter: drop-shadow(0px 1px 2px rgba(0, 0, 0, 0.3));\n",
              "      fill: #FFFFFF;\n",
              "    }\n",
              "  </style>\n",
              "\n",
              "      <script>\n",
              "        const buttonEl =\n",
              "          document.querySelector('#df-ebf07b69-275b-45d2-beb5-291b81a151ac button.colab-df-convert');\n",
              "        buttonEl.style.display =\n",
              "          google.colab.kernel.accessAllowed ? 'block' : 'none';\n",
              "\n",
              "        async function convertToInteractive(key) {\n",
              "          const element = document.querySelector('#df-ebf07b69-275b-45d2-beb5-291b81a151ac');\n",
              "          const dataTable =\n",
              "            await google.colab.kernel.invokeFunction('convertToInteractive',\n",
              "                                                     [key], {});\n",
              "          if (!dataTable) return;\n",
              "\n",
              "          const docLinkHtml = 'Like what you see? Visit the ' +\n",
              "            '<a target=\"_blank\" href=https://colab.research.google.com/notebooks/data_table.ipynb>data table notebook</a>'\n",
              "            + ' to learn more about interactive tables.';\n",
              "          element.innerHTML = '';\n",
              "          dataTable['output_type'] = 'display_data';\n",
              "          await google.colab.output.renderOutput(dataTable, element);\n",
              "          const docLink = document.createElement('div');\n",
              "          docLink.innerHTML = docLinkHtml;\n",
              "          element.appendChild(docLink);\n",
              "        }\n",
              "      </script>\n",
              "    </div>\n",
              "  </div>\n",
              "  "
            ]
          },
          "metadata": {},
          "execution_count": 12
        }
      ]
    },
    {
      "cell_type": "code",
      "source": [
        "# removing unwanted artifacts and lower cassing the summary column\n",
        "dataset[\"Summary\"]=dataset[\"Summary\"].str.replace(\"{{No plot}}\",\"\")\n",
        "dataset[\"Summary\"]=dataset[\"Summary\"].str.replace(\"{{plot}}\",\"\")\n",
        "dataset[\"Summary\"]=dataset[\"Summary\"].str.lower()"
      ],
      "metadata": {
        "colab": {
          "base_uri": "https://localhost:8080/"
        },
        "id": "pI1CYRgrQy36",
        "outputId": "de4a0e43-6fa1-49f5-d8b2-89fe99e5eed7"
      },
      "execution_count": null,
      "outputs": [
        {
          "output_type": "stream",
          "name": "stderr",
          "text": [
            "/usr/local/lib/python3.7/dist-packages/ipykernel_launcher.py:2: FutureWarning: The default value of regex will change from True to False in a future version.\n",
            "  \n",
            "/usr/local/lib/python3.7/dist-packages/ipykernel_launcher.py:3: FutureWarning: The default value of regex will change from True to False in a future version.\n",
            "  This is separate from the ipykernel package so we can avoid doing imports until\n"
          ]
        }
      ]
    },
    {
      "cell_type": "code",
      "source": [
        "dataset"
      ],
      "metadata": {
        "colab": {
          "base_uri": "https://localhost:8080/",
          "height": 424
        },
        "id": "6gJIwvvKQ2PY",
        "outputId": "a4c59a0c-7f55-40ac-9b8e-cad826eab86b"
      },
      "execution_count": null,
      "outputs": [
        {
          "output_type": "execute_result",
          "data": {
            "text/plain": [
              "       Wikipedia movie ID                                       Movie genres  \\\n",
              "0                  975900  [Thriller, Science Fiction, Horror, Adventure,...   \n",
              "1                 9363483  [Thriller, Erotic thriller, Psychological thri...   \n",
              "2                  261236                                            [Drama]   \n",
              "3                18998739    [Family Film, Fantasy, Adventure, World cinema]   \n",
              "4                 6631279  [Romantic comedy, Ensemble Film, Comedy-drama,...   \n",
              "...                   ...                                                ...   \n",
              "42199            23851782    [Crime Fiction, Thriller, Comedy, Supernatural]   \n",
              "42200            35228177                                            [Drama]   \n",
              "42201            34980460            [Biographical film, Drama, Documentary]   \n",
              "42202              913762  [Science Fiction, Japanese Movies, Adventure, ...   \n",
              "42203            12476867                  [Thriller, Horror, Slasher, Teen]   \n",
              "\n",
              "                                                 Summary  \n",
              "0      set in the second half of the 22nd century, th...  \n",
              "1      a series of murders of rich young women throug...  \n",
              "2      eva, an upper class housewife, becomes frustra...  \n",
              "3      every hundred years, the evil morgana  returns...  \n",
              "4      adam, a san francisco-based artist who works a...  \n",
              "...                                                  ...  \n",
              "42199   the film opens with a great western express s...  \n",
              "42200  two former national oceanic atmospheric admini...  \n",
              "42201   this film follows 12 years in the lives of 3 ...  \n",
              "42202  the story takes place in the year 2092,the sup...  \n",
              "42203  the movie is about a teenage girl who loves ho...  \n",
              "\n",
              "[42204 rows x 3 columns]"
            ],
            "text/html": [
              "\n",
              "  <div id=\"df-009094e7-bb5b-479a-bffb-c5722360ae0a\">\n",
              "    <div class=\"colab-df-container\">\n",
              "      <div>\n",
              "<style scoped>\n",
              "    .dataframe tbody tr th:only-of-type {\n",
              "        vertical-align: middle;\n",
              "    }\n",
              "\n",
              "    .dataframe tbody tr th {\n",
              "        vertical-align: top;\n",
              "    }\n",
              "\n",
              "    .dataframe thead th {\n",
              "        text-align: right;\n",
              "    }\n",
              "</style>\n",
              "<table border=\"1\" class=\"dataframe\">\n",
              "  <thead>\n",
              "    <tr style=\"text-align: right;\">\n",
              "      <th></th>\n",
              "      <th>Wikipedia movie ID</th>\n",
              "      <th>Movie genres</th>\n",
              "      <th>Summary</th>\n",
              "    </tr>\n",
              "  </thead>\n",
              "  <tbody>\n",
              "    <tr>\n",
              "      <th>0</th>\n",
              "      <td>975900</td>\n",
              "      <td>[Thriller, Science Fiction, Horror, Adventure,...</td>\n",
              "      <td>set in the second half of the 22nd century, th...</td>\n",
              "    </tr>\n",
              "    <tr>\n",
              "      <th>1</th>\n",
              "      <td>9363483</td>\n",
              "      <td>[Thriller, Erotic thriller, Psychological thri...</td>\n",
              "      <td>a series of murders of rich young women throug...</td>\n",
              "    </tr>\n",
              "    <tr>\n",
              "      <th>2</th>\n",
              "      <td>261236</td>\n",
              "      <td>[Drama]</td>\n",
              "      <td>eva, an upper class housewife, becomes frustra...</td>\n",
              "    </tr>\n",
              "    <tr>\n",
              "      <th>3</th>\n",
              "      <td>18998739</td>\n",
              "      <td>[Family Film, Fantasy, Adventure, World cinema]</td>\n",
              "      <td>every hundred years, the evil morgana  returns...</td>\n",
              "    </tr>\n",
              "    <tr>\n",
              "      <th>4</th>\n",
              "      <td>6631279</td>\n",
              "      <td>[Romantic comedy, Ensemble Film, Comedy-drama,...</td>\n",
              "      <td>adam, a san francisco-based artist who works a...</td>\n",
              "    </tr>\n",
              "    <tr>\n",
              "      <th>...</th>\n",
              "      <td>...</td>\n",
              "      <td>...</td>\n",
              "      <td>...</td>\n",
              "    </tr>\n",
              "    <tr>\n",
              "      <th>42199</th>\n",
              "      <td>23851782</td>\n",
              "      <td>[Crime Fiction, Thriller, Comedy, Supernatural]</td>\n",
              "      <td>the film opens with a great western express s...</td>\n",
              "    </tr>\n",
              "    <tr>\n",
              "      <th>42200</th>\n",
              "      <td>35228177</td>\n",
              "      <td>[Drama]</td>\n",
              "      <td>two former national oceanic atmospheric admini...</td>\n",
              "    </tr>\n",
              "    <tr>\n",
              "      <th>42201</th>\n",
              "      <td>34980460</td>\n",
              "      <td>[Biographical film, Drama, Documentary]</td>\n",
              "      <td>this film follows 12 years in the lives of 3 ...</td>\n",
              "    </tr>\n",
              "    <tr>\n",
              "      <th>42202</th>\n",
              "      <td>913762</td>\n",
              "      <td>[Science Fiction, Japanese Movies, Adventure, ...</td>\n",
              "      <td>the story takes place in the year 2092,the sup...</td>\n",
              "    </tr>\n",
              "    <tr>\n",
              "      <th>42203</th>\n",
              "      <td>12476867</td>\n",
              "      <td>[Thriller, Horror, Slasher, Teen]</td>\n",
              "      <td>the movie is about a teenage girl who loves ho...</td>\n",
              "    </tr>\n",
              "  </tbody>\n",
              "</table>\n",
              "<p>42204 rows × 3 columns</p>\n",
              "</div>\n",
              "      <button class=\"colab-df-convert\" onclick=\"convertToInteractive('df-009094e7-bb5b-479a-bffb-c5722360ae0a')\"\n",
              "              title=\"Convert this dataframe to an interactive table.\"\n",
              "              style=\"display:none;\">\n",
              "        \n",
              "  <svg xmlns=\"http://www.w3.org/2000/svg\" height=\"24px\"viewBox=\"0 0 24 24\"\n",
              "       width=\"24px\">\n",
              "    <path d=\"M0 0h24v24H0V0z\" fill=\"none\"/>\n",
              "    <path d=\"M18.56 5.44l.94 2.06.94-2.06 2.06-.94-2.06-.94-.94-2.06-.94 2.06-2.06.94zm-11 1L8.5 8.5l.94-2.06 2.06-.94-2.06-.94L8.5 2.5l-.94 2.06-2.06.94zm10 10l.94 2.06.94-2.06 2.06-.94-2.06-.94-.94-2.06-.94 2.06-2.06.94z\"/><path d=\"M17.41 7.96l-1.37-1.37c-.4-.4-.92-.59-1.43-.59-.52 0-1.04.2-1.43.59L10.3 9.45l-7.72 7.72c-.78.78-.78 2.05 0 2.83L4 21.41c.39.39.9.59 1.41.59.51 0 1.02-.2 1.41-.59l7.78-7.78 2.81-2.81c.8-.78.8-2.07 0-2.86zM5.41 20L4 18.59l7.72-7.72 1.47 1.35L5.41 20z\"/>\n",
              "  </svg>\n",
              "      </button>\n",
              "      \n",
              "  <style>\n",
              "    .colab-df-container {\n",
              "      display:flex;\n",
              "      flex-wrap:wrap;\n",
              "      gap: 12px;\n",
              "    }\n",
              "\n",
              "    .colab-df-convert {\n",
              "      background-color: #E8F0FE;\n",
              "      border: none;\n",
              "      border-radius: 50%;\n",
              "      cursor: pointer;\n",
              "      display: none;\n",
              "      fill: #1967D2;\n",
              "      height: 32px;\n",
              "      padding: 0 0 0 0;\n",
              "      width: 32px;\n",
              "    }\n",
              "\n",
              "    .colab-df-convert:hover {\n",
              "      background-color: #E2EBFA;\n",
              "      box-shadow: 0px 1px 2px rgba(60, 64, 67, 0.3), 0px 1px 3px 1px rgba(60, 64, 67, 0.15);\n",
              "      fill: #174EA6;\n",
              "    }\n",
              "\n",
              "    [theme=dark] .colab-df-convert {\n",
              "      background-color: #3B4455;\n",
              "      fill: #D2E3FC;\n",
              "    }\n",
              "\n",
              "    [theme=dark] .colab-df-convert:hover {\n",
              "      background-color: #434B5C;\n",
              "      box-shadow: 0px 1px 3px 1px rgba(0, 0, 0, 0.15);\n",
              "      filter: drop-shadow(0px 1px 2px rgba(0, 0, 0, 0.3));\n",
              "      fill: #FFFFFF;\n",
              "    }\n",
              "  </style>\n",
              "\n",
              "      <script>\n",
              "        const buttonEl =\n",
              "          document.querySelector('#df-009094e7-bb5b-479a-bffb-c5722360ae0a button.colab-df-convert');\n",
              "        buttonEl.style.display =\n",
              "          google.colab.kernel.accessAllowed ? 'block' : 'none';\n",
              "\n",
              "        async function convertToInteractive(key) {\n",
              "          const element = document.querySelector('#df-009094e7-bb5b-479a-bffb-c5722360ae0a');\n",
              "          const dataTable =\n",
              "            await google.colab.kernel.invokeFunction('convertToInteractive',\n",
              "                                                     [key], {});\n",
              "          if (!dataTable) return;\n",
              "\n",
              "          const docLinkHtml = 'Like what you see? Visit the ' +\n",
              "            '<a target=\"_blank\" href=https://colab.research.google.com/notebooks/data_table.ipynb>data table notebook</a>'\n",
              "            + ' to learn more about interactive tables.';\n",
              "          element.innerHTML = '';\n",
              "          dataTable['output_type'] = 'display_data';\n",
              "          await google.colab.output.renderOutput(dataTable, element);\n",
              "          const docLink = document.createElement('div');\n",
              "          docLink.innerHTML = docLinkHtml;\n",
              "          element.appendChild(docLink);\n",
              "        }\n",
              "      </script>\n",
              "    </div>\n",
              "  </div>\n",
              "  "
            ]
          },
          "metadata": {},
          "execution_count": 14
        }
      ]
    },
    {
      "cell_type": "code",
      "source": [
        "# unique geners\n",
        "genres = dataset[\"Movie genres\"].explode().unique().tolist()"
      ],
      "metadata": {
        "id": "Pnsl3xcTQ3_N"
      },
      "execution_count": null,
      "outputs": []
    },
    {
      "cell_type": "code",
      "source": [
        "#total number of genres\n",
        "len(genres)"
      ],
      "metadata": {
        "colab": {
          "base_uri": "https://localhost:8080/"
        },
        "id": "2NY4XYgAQ6DI",
        "outputId": "b55e3a1a-19d1-4e2a-9cb3-cc4173861159"
      },
      "execution_count": null,
      "outputs": [
        {
          "output_type": "execute_result",
          "data": {
            "text/plain": [
              "364"
            ]
          },
          "metadata": {},
          "execution_count": 16
        }
      ]
    },
    {
      "cell_type": "code",
      "source": [
        "dataset = dataset.drop('Wikipedia movie ID', axis=1)"
      ],
      "metadata": {
        "id": "h4_6idMhQ7ne"
      },
      "execution_count": null,
      "outputs": []
    },
    {
      "cell_type": "code",
      "source": [
        "# Turning the genres list column to there own respective column\n",
        "dataset=dataset.drop('Movie genres', 1).join(dataset[\"Movie genres\"].str.join('|').str.get_dummies())"
      ],
      "metadata": {
        "colab": {
          "base_uri": "https://localhost:8080/"
        },
        "id": "nASQ_VrqQ9Nb",
        "outputId": "035bbc12-1cf4-4916-b129-406f57a8af57"
      },
      "execution_count": null,
      "outputs": [
        {
          "output_type": "stream",
          "name": "stderr",
          "text": [
            "/usr/local/lib/python3.7/dist-packages/ipykernel_launcher.py:2: FutureWarning: In a future version of pandas all arguments of DataFrame.drop except for the argument 'labels' will be keyword-only\n",
            "  \n"
          ]
        }
      ]
    },
    {
      "cell_type": "code",
      "source": [
        "dataset.head()"
      ],
      "metadata": {
        "colab": {
          "base_uri": "https://localhost:8080/",
          "height": 768
        },
        "id": "mAp75fDuQ-ml",
        "outputId": "b7987c0e-1c60-4c94-e43e-3d1f98dc3a7b"
      },
      "execution_count": null,
      "outputs": [
        {
          "output_type": "execute_result",
          "data": {
            "text/plain": [
              "                                             Summary  Absurdism  Acid western  \\\n",
              "0  set in the second half of the 22nd century, th...          0             0   \n",
              "1  a series of murders of rich young women throug...          0             0   \n",
              "2  eva, an upper class housewife, becomes frustra...          0             0   \n",
              "3  every hundred years, the evil morgana  returns...          0             0   \n",
              "4  adam, a san francisco-based artist who works a...          0             0   \n",
              "\n",
              "   Action  Action Comedy  Action Thrillers  Action/Adventure  Addiction Drama  \\\n",
              "0       1              0                 0                 0                0   \n",
              "1       0              0                 0                 0                0   \n",
              "2       0              0                 0                 0                0   \n",
              "3       0              0                 0                 0                0   \n",
              "4       0              0                 0                 0                0   \n",
              "\n",
              "   Adult  Adventure  ...  Werewolf fiction  Western  Whodunit  \\\n",
              "0      0          1  ...                 0        0         0   \n",
              "1      0          0  ...                 0        0         0   \n",
              "2      0          0  ...                 0        0         0   \n",
              "3      0          1  ...                 0        0         0   \n",
              "4      0          0  ...                 0        0         0   \n",
              "\n",
              "   Women in prison films  Workplace Comedy  World History  World cinema  \\\n",
              "0                      0                 0              0             0   \n",
              "1                      0                 0              0             0   \n",
              "2                      0                 0              0             0   \n",
              "3                      0                 0              0             1   \n",
              "4                      0                 0              0             0   \n",
              "\n",
              "   Wuxia  Z movie  Zombie Film  \n",
              "0      0        0            0  \n",
              "1      0        0            0  \n",
              "2      0        0            0  \n",
              "3      0        0            0  \n",
              "4      0        0            0  \n",
              "\n",
              "[5 rows x 364 columns]"
            ],
            "text/html": [
              "\n",
              "  <div id=\"df-e2f6b062-4814-461d-8586-101b2ab00a98\">\n",
              "    <div class=\"colab-df-container\">\n",
              "      <div>\n",
              "<style scoped>\n",
              "    .dataframe tbody tr th:only-of-type {\n",
              "        vertical-align: middle;\n",
              "    }\n",
              "\n",
              "    .dataframe tbody tr th {\n",
              "        vertical-align: top;\n",
              "    }\n",
              "\n",
              "    .dataframe thead th {\n",
              "        text-align: right;\n",
              "    }\n",
              "</style>\n",
              "<table border=\"1\" class=\"dataframe\">\n",
              "  <thead>\n",
              "    <tr style=\"text-align: right;\">\n",
              "      <th></th>\n",
              "      <th>Summary</th>\n",
              "      <th>Absurdism</th>\n",
              "      <th>Acid western</th>\n",
              "      <th>Action</th>\n",
              "      <th>Action Comedy</th>\n",
              "      <th>Action Thrillers</th>\n",
              "      <th>Action/Adventure</th>\n",
              "      <th>Addiction Drama</th>\n",
              "      <th>Adult</th>\n",
              "      <th>Adventure</th>\n",
              "      <th>...</th>\n",
              "      <th>Werewolf fiction</th>\n",
              "      <th>Western</th>\n",
              "      <th>Whodunit</th>\n",
              "      <th>Women in prison films</th>\n",
              "      <th>Workplace Comedy</th>\n",
              "      <th>World History</th>\n",
              "      <th>World cinema</th>\n",
              "      <th>Wuxia</th>\n",
              "      <th>Z movie</th>\n",
              "      <th>Zombie Film</th>\n",
              "    </tr>\n",
              "  </thead>\n",
              "  <tbody>\n",
              "    <tr>\n",
              "      <th>0</th>\n",
              "      <td>set in the second half of the 22nd century, th...</td>\n",
              "      <td>0</td>\n",
              "      <td>0</td>\n",
              "      <td>1</td>\n",
              "      <td>0</td>\n",
              "      <td>0</td>\n",
              "      <td>0</td>\n",
              "      <td>0</td>\n",
              "      <td>0</td>\n",
              "      <td>1</td>\n",
              "      <td>...</td>\n",
              "      <td>0</td>\n",
              "      <td>0</td>\n",
              "      <td>0</td>\n",
              "      <td>0</td>\n",
              "      <td>0</td>\n",
              "      <td>0</td>\n",
              "      <td>0</td>\n",
              "      <td>0</td>\n",
              "      <td>0</td>\n",
              "      <td>0</td>\n",
              "    </tr>\n",
              "    <tr>\n",
              "      <th>1</th>\n",
              "      <td>a series of murders of rich young women throug...</td>\n",
              "      <td>0</td>\n",
              "      <td>0</td>\n",
              "      <td>0</td>\n",
              "      <td>0</td>\n",
              "      <td>0</td>\n",
              "      <td>0</td>\n",
              "      <td>0</td>\n",
              "      <td>0</td>\n",
              "      <td>0</td>\n",
              "      <td>...</td>\n",
              "      <td>0</td>\n",
              "      <td>0</td>\n",
              "      <td>0</td>\n",
              "      <td>0</td>\n",
              "      <td>0</td>\n",
              "      <td>0</td>\n",
              "      <td>0</td>\n",
              "      <td>0</td>\n",
              "      <td>0</td>\n",
              "      <td>0</td>\n",
              "    </tr>\n",
              "    <tr>\n",
              "      <th>2</th>\n",
              "      <td>eva, an upper class housewife, becomes frustra...</td>\n",
              "      <td>0</td>\n",
              "      <td>0</td>\n",
              "      <td>0</td>\n",
              "      <td>0</td>\n",
              "      <td>0</td>\n",
              "      <td>0</td>\n",
              "      <td>0</td>\n",
              "      <td>0</td>\n",
              "      <td>0</td>\n",
              "      <td>...</td>\n",
              "      <td>0</td>\n",
              "      <td>0</td>\n",
              "      <td>0</td>\n",
              "      <td>0</td>\n",
              "      <td>0</td>\n",
              "      <td>0</td>\n",
              "      <td>0</td>\n",
              "      <td>0</td>\n",
              "      <td>0</td>\n",
              "      <td>0</td>\n",
              "    </tr>\n",
              "    <tr>\n",
              "      <th>3</th>\n",
              "      <td>every hundred years, the evil morgana  returns...</td>\n",
              "      <td>0</td>\n",
              "      <td>0</td>\n",
              "      <td>0</td>\n",
              "      <td>0</td>\n",
              "      <td>0</td>\n",
              "      <td>0</td>\n",
              "      <td>0</td>\n",
              "      <td>0</td>\n",
              "      <td>1</td>\n",
              "      <td>...</td>\n",
              "      <td>0</td>\n",
              "      <td>0</td>\n",
              "      <td>0</td>\n",
              "      <td>0</td>\n",
              "      <td>0</td>\n",
              "      <td>0</td>\n",
              "      <td>1</td>\n",
              "      <td>0</td>\n",
              "      <td>0</td>\n",
              "      <td>0</td>\n",
              "    </tr>\n",
              "    <tr>\n",
              "      <th>4</th>\n",
              "      <td>adam, a san francisco-based artist who works a...</td>\n",
              "      <td>0</td>\n",
              "      <td>0</td>\n",
              "      <td>0</td>\n",
              "      <td>0</td>\n",
              "      <td>0</td>\n",
              "      <td>0</td>\n",
              "      <td>0</td>\n",
              "      <td>0</td>\n",
              "      <td>0</td>\n",
              "      <td>...</td>\n",
              "      <td>0</td>\n",
              "      <td>0</td>\n",
              "      <td>0</td>\n",
              "      <td>0</td>\n",
              "      <td>0</td>\n",
              "      <td>0</td>\n",
              "      <td>0</td>\n",
              "      <td>0</td>\n",
              "      <td>0</td>\n",
              "      <td>0</td>\n",
              "    </tr>\n",
              "  </tbody>\n",
              "</table>\n",
              "<p>5 rows × 364 columns</p>\n",
              "</div>\n",
              "      <button class=\"colab-df-convert\" onclick=\"convertToInteractive('df-e2f6b062-4814-461d-8586-101b2ab00a98')\"\n",
              "              title=\"Convert this dataframe to an interactive table.\"\n",
              "              style=\"display:none;\">\n",
              "        \n",
              "  <svg xmlns=\"http://www.w3.org/2000/svg\" height=\"24px\"viewBox=\"0 0 24 24\"\n",
              "       width=\"24px\">\n",
              "    <path d=\"M0 0h24v24H0V0z\" fill=\"none\"/>\n",
              "    <path d=\"M18.56 5.44l.94 2.06.94-2.06 2.06-.94-2.06-.94-.94-2.06-.94 2.06-2.06.94zm-11 1L8.5 8.5l.94-2.06 2.06-.94-2.06-.94L8.5 2.5l-.94 2.06-2.06.94zm10 10l.94 2.06.94-2.06 2.06-.94-2.06-.94-.94-2.06-.94 2.06-2.06.94z\"/><path d=\"M17.41 7.96l-1.37-1.37c-.4-.4-.92-.59-1.43-.59-.52 0-1.04.2-1.43.59L10.3 9.45l-7.72 7.72c-.78.78-.78 2.05 0 2.83L4 21.41c.39.39.9.59 1.41.59.51 0 1.02-.2 1.41-.59l7.78-7.78 2.81-2.81c.8-.78.8-2.07 0-2.86zM5.41 20L4 18.59l7.72-7.72 1.47 1.35L5.41 20z\"/>\n",
              "  </svg>\n",
              "      </button>\n",
              "      \n",
              "  <style>\n",
              "    .colab-df-container {\n",
              "      display:flex;\n",
              "      flex-wrap:wrap;\n",
              "      gap: 12px;\n",
              "    }\n",
              "\n",
              "    .colab-df-convert {\n",
              "      background-color: #E8F0FE;\n",
              "      border: none;\n",
              "      border-radius: 50%;\n",
              "      cursor: pointer;\n",
              "      display: none;\n",
              "      fill: #1967D2;\n",
              "      height: 32px;\n",
              "      padding: 0 0 0 0;\n",
              "      width: 32px;\n",
              "    }\n",
              "\n",
              "    .colab-df-convert:hover {\n",
              "      background-color: #E2EBFA;\n",
              "      box-shadow: 0px 1px 2px rgba(60, 64, 67, 0.3), 0px 1px 3px 1px rgba(60, 64, 67, 0.15);\n",
              "      fill: #174EA6;\n",
              "    }\n",
              "\n",
              "    [theme=dark] .colab-df-convert {\n",
              "      background-color: #3B4455;\n",
              "      fill: #D2E3FC;\n",
              "    }\n",
              "\n",
              "    [theme=dark] .colab-df-convert:hover {\n",
              "      background-color: #434B5C;\n",
              "      box-shadow: 0px 1px 3px 1px rgba(0, 0, 0, 0.15);\n",
              "      filter: drop-shadow(0px 1px 2px rgba(0, 0, 0, 0.3));\n",
              "      fill: #FFFFFF;\n",
              "    }\n",
              "  </style>\n",
              "\n",
              "      <script>\n",
              "        const buttonEl =\n",
              "          document.querySelector('#df-e2f6b062-4814-461d-8586-101b2ab00a98 button.colab-df-convert');\n",
              "        buttonEl.style.display =\n",
              "          google.colab.kernel.accessAllowed ? 'block' : 'none';\n",
              "\n",
              "        async function convertToInteractive(key) {\n",
              "          const element = document.querySelector('#df-e2f6b062-4814-461d-8586-101b2ab00a98');\n",
              "          const dataTable =\n",
              "            await google.colab.kernel.invokeFunction('convertToInteractive',\n",
              "                                                     [key], {});\n",
              "          if (!dataTable) return;\n",
              "\n",
              "          const docLinkHtml = 'Like what you see? Visit the ' +\n",
              "            '<a target=\"_blank\" href=https://colab.research.google.com/notebooks/data_table.ipynb>data table notebook</a>'\n",
              "            + ' to learn more about interactive tables.';\n",
              "          element.innerHTML = '';\n",
              "          dataTable['output_type'] = 'display_data';\n",
              "          await google.colab.output.renderOutput(dataTable, element);\n",
              "          const docLink = document.createElement('div');\n",
              "          docLink.innerHTML = docLinkHtml;\n",
              "          element.appendChild(docLink);\n",
              "        }\n",
              "      </script>\n",
              "    </div>\n",
              "  </div>\n",
              "  "
            ]
          },
          "metadata": {},
          "execution_count": 19
        }
      ]
    },
    {
      "cell_type": "code",
      "source": [
        "genres_name = dataset.columns\n",
        "genres_name=genres_name[1:]\n",
        "genres_name"
      ],
      "metadata": {
        "colab": {
          "base_uri": "https://localhost:8080/"
        },
        "id": "OGc8T_8ORGNY",
        "outputId": "27e3ed59-362d-4564-bae3-d072fa5a1b39"
      },
      "execution_count": null,
      "outputs": [
        {
          "output_type": "execute_result",
          "data": {
            "text/plain": [
              "Index(['Absurdism', 'Acid western', 'Action', 'Action Comedy',\n",
              "       'Action Thrillers', 'Action/Adventure', 'Addiction Drama', 'Adult',\n",
              "       'Adventure', 'Adventure Comedy',\n",
              "       ...\n",
              "       'Werewolf fiction', 'Western', 'Whodunit', 'Women in prison films',\n",
              "       'Workplace Comedy', 'World History', 'World cinema', 'Wuxia', 'Z movie',\n",
              "       'Zombie Film'],\n",
              "      dtype='object', length=363)"
            ]
          },
          "metadata": {},
          "execution_count": 20
        }
      ]
    },
    {
      "cell_type": "code",
      "source": [
        "# function to drop column with low count of data based on a certain threshold\n",
        "def deleteData(dataset,genres_name,threshold=20):\n",
        "  for name in genres_name:\n",
        "    if dataset[name].value_counts()[1]<=threshold:\n",
        "        dataset=dataset.drop(name,axis=1)\n",
        "  return dataset"
      ],
      "metadata": {
        "id": "0EevPXl4Nh1Z"
      },
      "execution_count": null,
      "outputs": []
    },
    {
      "cell_type": "code",
      "source": [
        "dataset=deleteData(dataset,genres_name,20)"
      ],
      "metadata": {
        "id": "jsll9geANjVP"
      },
      "execution_count": null,
      "outputs": []
    },
    {
      "cell_type": "code",
      "source": [
        "# New genres_name after deletion of data\n",
        "genres_name = dataset.columns\n",
        "genres_name=genres_name[1:]\n",
        "genres_name"
      ],
      "metadata": {
        "colab": {
          "base_uri": "https://localhost:8080/"
        },
        "id": "O9cvfY0wn10K",
        "outputId": "57d9db56-78db-414e-c7b5-2ee15e1098ee"
      },
      "execution_count": null,
      "outputs": [
        {
          "output_type": "execute_result",
          "data": {
            "text/plain": [
              "Index(['Absurdism', 'Action', 'Action Comedy', 'Action Thrillers',\n",
              "       'Action/Adventure', 'Addiction Drama', 'Adult', 'Adventure',\n",
              "       'Adventure Comedy', 'Airplanes and airports',\n",
              "       ...\n",
              "       'Tollywood', 'Tragedy', 'Tragicomedy', 'War film', 'Western',\n",
              "       'Whodunit', 'Workplace Comedy', 'World cinema', 'Wuxia', 'Zombie Film'],\n",
              "      dtype='object', length=213)"
            ]
          },
          "metadata": {},
          "execution_count": 23
        }
      ]
    },
    {
      "cell_type": "code",
      "source": [
        "num_classes=len(genres_name)"
      ],
      "metadata": {
        "id": "OrjrEo8zn5fw"
      },
      "execution_count": null,
      "outputs": []
    },
    {
      "cell_type": "code",
      "source": [
        "# Performing one hot encoding and getting a single column with all genres data\n",
        "dataset['label'] = dataset[dataset.columns[1:]].values.tolist()"
      ],
      "metadata": {
        "id": "l7pqODsbRHTS"
      },
      "execution_count": null,
      "outputs": []
    },
    {
      "cell_type": "code",
      "source": [
        "dataset = dataset[['Summary', 'label']].copy()"
      ],
      "metadata": {
        "id": "YUjgeL7tRLJB"
      },
      "execution_count": null,
      "outputs": []
    },
    {
      "cell_type": "code",
      "source": [
        "# text cleaning techinique\n",
        "def cleanHtml(sentence):\n",
        "    cleanr = re.compile('<.*?>')\n",
        "    cleantext = re.sub(cleanr, ' ', str(sentence))\n",
        "    return cleantext\n",
        "def cleanPunc(sentence): #function to clean the word of any punctuation or special characters\n",
        "    cleaned = re.sub(r'[?|!|\\'|\"|#]',r'',sentence)\n",
        "    cleaned = re.sub(r'[.|,|)|(|\\|/]',r' ',cleaned)\n",
        "    cleaned = cleaned.strip()\n",
        "    cleaned = cleaned.replace(\"\\n\",\" \")\n",
        "    return cleaned\n",
        "def keepAlpha(sentence):\n",
        "    alpha_sent = \"\"\n",
        "    for word in sentence.split():\n",
        "        alpha_word = re.sub('[^a-z A-Z]+', ' ', word)\n",
        "        alpha_sent += alpha_word\n",
        "        alpha_sent += \" \"\n",
        "    alpha_sent = alpha_sent.strip()\n",
        "    return alpha_sent"
      ],
      "metadata": {
        "id": "TQSqA0PqROA2"
      },
      "execution_count": null,
      "outputs": []
    },
    {
      "cell_type": "code",
      "source": [
        "dataset['Summary'] = dataset['Summary'].apply(cleanHtml)\n",
        "dataset['Summary'] = dataset['Summary'].apply(cleanPunc)\n",
        "dataset['Summary'] = dataset['Summary'].apply(keepAlpha)"
      ],
      "metadata": {
        "id": "dHfC1785RPQl"
      },
      "execution_count": null,
      "outputs": []
    },
    {
      "cell_type": "code",
      "source": [
        "# Converting Summary column Dtype from object to String\n",
        "dataset=dataset.convert_dtypes()\n",
        "dataset.info()"
      ],
      "metadata": {
        "colab": {
          "base_uri": "https://localhost:8080/"
        },
        "id": "4P6QW_S9RVlW",
        "outputId": "ab7ef077-0da2-48b9-8dc6-66cea54771e4"
      },
      "execution_count": null,
      "outputs": [
        {
          "output_type": "stream",
          "name": "stdout",
          "text": [
            "<class 'pandas.core.frame.DataFrame'>\n",
            "Int64Index: 42204 entries, 0 to 42203\n",
            "Data columns (total 2 columns):\n",
            " #   Column   Non-Null Count  Dtype \n",
            "---  ------   --------------  ----- \n",
            " 0   Summary  42204 non-null  string\n",
            " 1   label    42204 non-null  object\n",
            "dtypes: object(1), string(1)\n",
            "memory usage: 2.0+ MB\n"
          ]
        }
      ]
    },
    {
      "cell_type": "code",
      "source": [
        "# Spliting dataset\n",
        "train=dataset.sample(frac=0.8)\n",
        "test= dataset.drop(train.index)"
      ],
      "metadata": {
        "id": "URdC9c2tRW2U"
      },
      "execution_count": null,
      "outputs": []
    },
    {
      "cell_type": "code",
      "source": [
        "train"
      ],
      "metadata": {
        "colab": {
          "base_uri": "https://localhost:8080/",
          "height": 424
        },
        "id": "7ksCh5eSRZlW",
        "outputId": "e8a6cb0f-3303-4e05-9d34-d87ef0afa270"
      },
      "execution_count": null,
      "outputs": [
        {
          "output_type": "execute_result",
          "data": {
            "text/plain": [
              "                                                 Summary  \\\n",
              "3296   nolff a devout breton fisherman has taken a vo...   \n",
              "32944  plot  new york firefighter patrick sullivan ha...   \n",
              "5526   scotty and his grandfather gus are the proprie...   \n",
              "13085  the film revolves around harvard educated lawy...   \n",
              "20421  girl katka is frustrated and restless she esca...   \n",
              "...                                                  ...   \n",
              "19833  the oleary family are travelling to chicago to...   \n",
              "20072  in   walter raleigh recently returned from the...   \n",
              "1549   by the end of the  th century butch cassidy th...   \n",
              "7863   two young girls anupama and rahael rent an old...   \n",
              "26693  mahaul theek hai is a record setting punjabi f...   \n",
              "\n",
              "                                                   label  \n",
              "3296   [0, 0, 0, 0, 0, 0, 0, 0, 0, 0, 0, 0, 0, 0, 0, ...  \n",
              "32944  [0, 0, 0, 0, 0, 0, 0, 0, 0, 0, 0, 0, 0, 0, 0, ...  \n",
              "5526   [0, 0, 0, 0, 0, 0, 0, 0, 0, 0, 0, 0, 0, 0, 0, ...  \n",
              "13085  [0, 0, 0, 0, 0, 0, 0, 0, 0, 0, 0, 0, 0, 0, 0, ...  \n",
              "20421  [0, 0, 0, 0, 0, 0, 0, 0, 0, 0, 0, 0, 0, 0, 0, ...  \n",
              "...                                                  ...  \n",
              "19833  [0, 0, 0, 0, 1, 0, 0, 0, 0, 0, 0, 0, 0, 0, 0, ...  \n",
              "20072  [0, 0, 0, 0, 0, 0, 0, 0, 0, 0, 0, 0, 0, 0, 0, ...  \n",
              "1549   [0, 0, 0, 0, 0, 0, 0, 0, 0, 0, 0, 0, 0, 0, 0, ...  \n",
              "7863   [0, 0, 0, 0, 0, 0, 0, 0, 0, 0, 0, 0, 0, 0, 0, ...  \n",
              "26693  [0, 0, 0, 0, 0, 0, 0, 0, 0, 0, 0, 0, 0, 0, 0, ...  \n",
              "\n",
              "[33763 rows x 2 columns]"
            ],
            "text/html": [
              "\n",
              "  <div id=\"df-f49e3b44-e2c0-49ec-8f9d-db65cfb161a7\">\n",
              "    <div class=\"colab-df-container\">\n",
              "      <div>\n",
              "<style scoped>\n",
              "    .dataframe tbody tr th:only-of-type {\n",
              "        vertical-align: middle;\n",
              "    }\n",
              "\n",
              "    .dataframe tbody tr th {\n",
              "        vertical-align: top;\n",
              "    }\n",
              "\n",
              "    .dataframe thead th {\n",
              "        text-align: right;\n",
              "    }\n",
              "</style>\n",
              "<table border=\"1\" class=\"dataframe\">\n",
              "  <thead>\n",
              "    <tr style=\"text-align: right;\">\n",
              "      <th></th>\n",
              "      <th>Summary</th>\n",
              "      <th>label</th>\n",
              "    </tr>\n",
              "  </thead>\n",
              "  <tbody>\n",
              "    <tr>\n",
              "      <th>3296</th>\n",
              "      <td>nolff a devout breton fisherman has taken a vo...</td>\n",
              "      <td>[0, 0, 0, 0, 0, 0, 0, 0, 0, 0, 0, 0, 0, 0, 0, ...</td>\n",
              "    </tr>\n",
              "    <tr>\n",
              "      <th>32944</th>\n",
              "      <td>plot  new york firefighter patrick sullivan ha...</td>\n",
              "      <td>[0, 0, 0, 0, 0, 0, 0, 0, 0, 0, 0, 0, 0, 0, 0, ...</td>\n",
              "    </tr>\n",
              "    <tr>\n",
              "      <th>5526</th>\n",
              "      <td>scotty and his grandfather gus are the proprie...</td>\n",
              "      <td>[0, 0, 0, 0, 0, 0, 0, 0, 0, 0, 0, 0, 0, 0, 0, ...</td>\n",
              "    </tr>\n",
              "    <tr>\n",
              "      <th>13085</th>\n",
              "      <td>the film revolves around harvard educated lawy...</td>\n",
              "      <td>[0, 0, 0, 0, 0, 0, 0, 0, 0, 0, 0, 0, 0, 0, 0, ...</td>\n",
              "    </tr>\n",
              "    <tr>\n",
              "      <th>20421</th>\n",
              "      <td>girl katka is frustrated and restless she esca...</td>\n",
              "      <td>[0, 0, 0, 0, 0, 0, 0, 0, 0, 0, 0, 0, 0, 0, 0, ...</td>\n",
              "    </tr>\n",
              "    <tr>\n",
              "      <th>...</th>\n",
              "      <td>...</td>\n",
              "      <td>...</td>\n",
              "    </tr>\n",
              "    <tr>\n",
              "      <th>19833</th>\n",
              "      <td>the oleary family are travelling to chicago to...</td>\n",
              "      <td>[0, 0, 0, 0, 1, 0, 0, 0, 0, 0, 0, 0, 0, 0, 0, ...</td>\n",
              "    </tr>\n",
              "    <tr>\n",
              "      <th>20072</th>\n",
              "      <td>in   walter raleigh recently returned from the...</td>\n",
              "      <td>[0, 0, 0, 0, 0, 0, 0, 0, 0, 0, 0, 0, 0, 0, 0, ...</td>\n",
              "    </tr>\n",
              "    <tr>\n",
              "      <th>1549</th>\n",
              "      <td>by the end of the  th century butch cassidy th...</td>\n",
              "      <td>[0, 0, 0, 0, 0, 0, 0, 0, 0, 0, 0, 0, 0, 0, 0, ...</td>\n",
              "    </tr>\n",
              "    <tr>\n",
              "      <th>7863</th>\n",
              "      <td>two young girls anupama and rahael rent an old...</td>\n",
              "      <td>[0, 0, 0, 0, 0, 0, 0, 0, 0, 0, 0, 0, 0, 0, 0, ...</td>\n",
              "    </tr>\n",
              "    <tr>\n",
              "      <th>26693</th>\n",
              "      <td>mahaul theek hai is a record setting punjabi f...</td>\n",
              "      <td>[0, 0, 0, 0, 0, 0, 0, 0, 0, 0, 0, 0, 0, 0, 0, ...</td>\n",
              "    </tr>\n",
              "  </tbody>\n",
              "</table>\n",
              "<p>33763 rows × 2 columns</p>\n",
              "</div>\n",
              "      <button class=\"colab-df-convert\" onclick=\"convertToInteractive('df-f49e3b44-e2c0-49ec-8f9d-db65cfb161a7')\"\n",
              "              title=\"Convert this dataframe to an interactive table.\"\n",
              "              style=\"display:none;\">\n",
              "        \n",
              "  <svg xmlns=\"http://www.w3.org/2000/svg\" height=\"24px\"viewBox=\"0 0 24 24\"\n",
              "       width=\"24px\">\n",
              "    <path d=\"M0 0h24v24H0V0z\" fill=\"none\"/>\n",
              "    <path d=\"M18.56 5.44l.94 2.06.94-2.06 2.06-.94-2.06-.94-.94-2.06-.94 2.06-2.06.94zm-11 1L8.5 8.5l.94-2.06 2.06-.94-2.06-.94L8.5 2.5l-.94 2.06-2.06.94zm10 10l.94 2.06.94-2.06 2.06-.94-2.06-.94-.94-2.06-.94 2.06-2.06.94z\"/><path d=\"M17.41 7.96l-1.37-1.37c-.4-.4-.92-.59-1.43-.59-.52 0-1.04.2-1.43.59L10.3 9.45l-7.72 7.72c-.78.78-.78 2.05 0 2.83L4 21.41c.39.39.9.59 1.41.59.51 0 1.02-.2 1.41-.59l7.78-7.78 2.81-2.81c.8-.78.8-2.07 0-2.86zM5.41 20L4 18.59l7.72-7.72 1.47 1.35L5.41 20z\"/>\n",
              "  </svg>\n",
              "      </button>\n",
              "      \n",
              "  <style>\n",
              "    .colab-df-container {\n",
              "      display:flex;\n",
              "      flex-wrap:wrap;\n",
              "      gap: 12px;\n",
              "    }\n",
              "\n",
              "    .colab-df-convert {\n",
              "      background-color: #E8F0FE;\n",
              "      border: none;\n",
              "      border-radius: 50%;\n",
              "      cursor: pointer;\n",
              "      display: none;\n",
              "      fill: #1967D2;\n",
              "      height: 32px;\n",
              "      padding: 0 0 0 0;\n",
              "      width: 32px;\n",
              "    }\n",
              "\n",
              "    .colab-df-convert:hover {\n",
              "      background-color: #E2EBFA;\n",
              "      box-shadow: 0px 1px 2px rgba(60, 64, 67, 0.3), 0px 1px 3px 1px rgba(60, 64, 67, 0.15);\n",
              "      fill: #174EA6;\n",
              "    }\n",
              "\n",
              "    [theme=dark] .colab-df-convert {\n",
              "      background-color: #3B4455;\n",
              "      fill: #D2E3FC;\n",
              "    }\n",
              "\n",
              "    [theme=dark] .colab-df-convert:hover {\n",
              "      background-color: #434B5C;\n",
              "      box-shadow: 0px 1px 3px 1px rgba(0, 0, 0, 0.15);\n",
              "      filter: drop-shadow(0px 1px 2px rgba(0, 0, 0, 0.3));\n",
              "      fill: #FFFFFF;\n",
              "    }\n",
              "  </style>\n",
              "\n",
              "      <script>\n",
              "        const buttonEl =\n",
              "          document.querySelector('#df-f49e3b44-e2c0-49ec-8f9d-db65cfb161a7 button.colab-df-convert');\n",
              "        buttonEl.style.display =\n",
              "          google.colab.kernel.accessAllowed ? 'block' : 'none';\n",
              "\n",
              "        async function convertToInteractive(key) {\n",
              "          const element = document.querySelector('#df-f49e3b44-e2c0-49ec-8f9d-db65cfb161a7');\n",
              "          const dataTable =\n",
              "            await google.colab.kernel.invokeFunction('convertToInteractive',\n",
              "                                                     [key], {});\n",
              "          if (!dataTable) return;\n",
              "\n",
              "          const docLinkHtml = 'Like what you see? Visit the ' +\n",
              "            '<a target=\"_blank\" href=https://colab.research.google.com/notebooks/data_table.ipynb>data table notebook</a>'\n",
              "            + ' to learn more about interactive tables.';\n",
              "          element.innerHTML = '';\n",
              "          dataTable['output_type'] = 'display_data';\n",
              "          await google.colab.output.renderOutput(dataTable, element);\n",
              "          const docLink = document.createElement('div');\n",
              "          docLink.innerHTML = docLinkHtml;\n",
              "          element.appendChild(docLink);\n",
              "        }\n",
              "      </script>\n",
              "    </div>\n",
              "  </div>\n",
              "  "
            ]
          },
          "metadata": {},
          "execution_count": 31
        }
      ]
    },
    {
      "cell_type": "code",
      "source": [
        "test"
      ],
      "metadata": {
        "colab": {
          "base_uri": "https://localhost:8080/",
          "height": 424
        },
        "id": "SisEWsyKReL4",
        "outputId": "02510610-9933-4509-8b9d-9fb1e3111de1"
      },
      "execution_count": null,
      "outputs": [
        {
          "output_type": "execute_result",
          "data": {
            "text/plain": [
              "                                                 Summary  \\\n",
              "7      the story starts as one of the robots flies in...   \n",
              "13     shalini shalu lives a wealthy lifestyle with h...   \n",
              "23     in the fictional farming village of tlachtl n ...   \n",
              "28     the film focuses on the conflict between maxim...   \n",
              "33     after running away from a shoot out the outlaw...   \n",
              "...                                                  ...   \n",
              "42170  karthik is a rich architect in ooty he falls i...   \n",
              "42177  the film deals with the myriad complications a...   \n",
              "42178  the film begins with a title card describing h...   \n",
              "42193  kalai arasi is a well blended story of romance...   \n",
              "42197  kishan killed a man in his childhood when the ...   \n",
              "\n",
              "                                                   label  \n",
              "7      [0, 1, 0, 0, 0, 0, 0, 1, 0, 0, 0, 0, 0, 0, 0, ...  \n",
              "13     [0, 0, 0, 0, 0, 0, 0, 0, 0, 0, 0, 0, 0, 0, 0, ...  \n",
              "23     [0, 0, 0, 0, 0, 0, 0, 0, 0, 0, 0, 0, 0, 0, 0, ...  \n",
              "28     [0, 0, 0, 0, 0, 0, 0, 0, 0, 0, 0, 0, 0, 0, 0, ...  \n",
              "33     [0, 0, 0, 0, 0, 0, 0, 0, 0, 0, 0, 0, 0, 0, 0, ...  \n",
              "...                                                  ...  \n",
              "42170  [0, 0, 0, 0, 0, 0, 0, 0, 0, 0, 0, 0, 0, 0, 0, ...  \n",
              "42177  [0, 0, 0, 0, 0, 0, 0, 0, 0, 0, 0, 0, 0, 0, 0, ...  \n",
              "42178  [0, 0, 0, 0, 0, 0, 0, 0, 0, 0, 0, 0, 0, 0, 0, ...  \n",
              "42193  [0, 1, 0, 0, 0, 0, 0, 0, 0, 0, 0, 0, 0, 0, 0, ...  \n",
              "42197  [0, 1, 0, 0, 0, 0, 0, 0, 0, 0, 0, 0, 0, 0, 0, ...  \n",
              "\n",
              "[8441 rows x 2 columns]"
            ],
            "text/html": [
              "\n",
              "  <div id=\"df-594510d6-3907-4c4d-986b-fcde5e0d75f8\">\n",
              "    <div class=\"colab-df-container\">\n",
              "      <div>\n",
              "<style scoped>\n",
              "    .dataframe tbody tr th:only-of-type {\n",
              "        vertical-align: middle;\n",
              "    }\n",
              "\n",
              "    .dataframe tbody tr th {\n",
              "        vertical-align: top;\n",
              "    }\n",
              "\n",
              "    .dataframe thead th {\n",
              "        text-align: right;\n",
              "    }\n",
              "</style>\n",
              "<table border=\"1\" class=\"dataframe\">\n",
              "  <thead>\n",
              "    <tr style=\"text-align: right;\">\n",
              "      <th></th>\n",
              "      <th>Summary</th>\n",
              "      <th>label</th>\n",
              "    </tr>\n",
              "  </thead>\n",
              "  <tbody>\n",
              "    <tr>\n",
              "      <th>7</th>\n",
              "      <td>the story starts as one of the robots flies in...</td>\n",
              "      <td>[0, 1, 0, 0, 0, 0, 0, 1, 0, 0, 0, 0, 0, 0, 0, ...</td>\n",
              "    </tr>\n",
              "    <tr>\n",
              "      <th>13</th>\n",
              "      <td>shalini shalu lives a wealthy lifestyle with h...</td>\n",
              "      <td>[0, 0, 0, 0, 0, 0, 0, 0, 0, 0, 0, 0, 0, 0, 0, ...</td>\n",
              "    </tr>\n",
              "    <tr>\n",
              "      <th>23</th>\n",
              "      <td>in the fictional farming village of tlachtl n ...</td>\n",
              "      <td>[0, 0, 0, 0, 0, 0, 0, 0, 0, 0, 0, 0, 0, 0, 0, ...</td>\n",
              "    </tr>\n",
              "    <tr>\n",
              "      <th>28</th>\n",
              "      <td>the film focuses on the conflict between maxim...</td>\n",
              "      <td>[0, 0, 0, 0, 0, 0, 0, 0, 0, 0, 0, 0, 0, 0, 0, ...</td>\n",
              "    </tr>\n",
              "    <tr>\n",
              "      <th>33</th>\n",
              "      <td>after running away from a shoot out the outlaw...</td>\n",
              "      <td>[0, 0, 0, 0, 0, 0, 0, 0, 0, 0, 0, 0, 0, 0, 0, ...</td>\n",
              "    </tr>\n",
              "    <tr>\n",
              "      <th>...</th>\n",
              "      <td>...</td>\n",
              "      <td>...</td>\n",
              "    </tr>\n",
              "    <tr>\n",
              "      <th>42170</th>\n",
              "      <td>karthik is a rich architect in ooty he falls i...</td>\n",
              "      <td>[0, 0, 0, 0, 0, 0, 0, 0, 0, 0, 0, 0, 0, 0, 0, ...</td>\n",
              "    </tr>\n",
              "    <tr>\n",
              "      <th>42177</th>\n",
              "      <td>the film deals with the myriad complications a...</td>\n",
              "      <td>[0, 0, 0, 0, 0, 0, 0, 0, 0, 0, 0, 0, 0, 0, 0, ...</td>\n",
              "    </tr>\n",
              "    <tr>\n",
              "      <th>42178</th>\n",
              "      <td>the film begins with a title card describing h...</td>\n",
              "      <td>[0, 0, 0, 0, 0, 0, 0, 0, 0, 0, 0, 0, 0, 0, 0, ...</td>\n",
              "    </tr>\n",
              "    <tr>\n",
              "      <th>42193</th>\n",
              "      <td>kalai arasi is a well blended story of romance...</td>\n",
              "      <td>[0, 1, 0, 0, 0, 0, 0, 0, 0, 0, 0, 0, 0, 0, 0, ...</td>\n",
              "    </tr>\n",
              "    <tr>\n",
              "      <th>42197</th>\n",
              "      <td>kishan killed a man in his childhood when the ...</td>\n",
              "      <td>[0, 1, 0, 0, 0, 0, 0, 0, 0, 0, 0, 0, 0, 0, 0, ...</td>\n",
              "    </tr>\n",
              "  </tbody>\n",
              "</table>\n",
              "<p>8441 rows × 2 columns</p>\n",
              "</div>\n",
              "      <button class=\"colab-df-convert\" onclick=\"convertToInteractive('df-594510d6-3907-4c4d-986b-fcde5e0d75f8')\"\n",
              "              title=\"Convert this dataframe to an interactive table.\"\n",
              "              style=\"display:none;\">\n",
              "        \n",
              "  <svg xmlns=\"http://www.w3.org/2000/svg\" height=\"24px\"viewBox=\"0 0 24 24\"\n",
              "       width=\"24px\">\n",
              "    <path d=\"M0 0h24v24H0V0z\" fill=\"none\"/>\n",
              "    <path d=\"M18.56 5.44l.94 2.06.94-2.06 2.06-.94-2.06-.94-.94-2.06-.94 2.06-2.06.94zm-11 1L8.5 8.5l.94-2.06 2.06-.94-2.06-.94L8.5 2.5l-.94 2.06-2.06.94zm10 10l.94 2.06.94-2.06 2.06-.94-2.06-.94-.94-2.06-.94 2.06-2.06.94z\"/><path d=\"M17.41 7.96l-1.37-1.37c-.4-.4-.92-.59-1.43-.59-.52 0-1.04.2-1.43.59L10.3 9.45l-7.72 7.72c-.78.78-.78 2.05 0 2.83L4 21.41c.39.39.9.59 1.41.59.51 0 1.02-.2 1.41-.59l7.78-7.78 2.81-2.81c.8-.78.8-2.07 0-2.86zM5.41 20L4 18.59l7.72-7.72 1.47 1.35L5.41 20z\"/>\n",
              "  </svg>\n",
              "      </button>\n",
              "      \n",
              "  <style>\n",
              "    .colab-df-container {\n",
              "      display:flex;\n",
              "      flex-wrap:wrap;\n",
              "      gap: 12px;\n",
              "    }\n",
              "\n",
              "    .colab-df-convert {\n",
              "      background-color: #E8F0FE;\n",
              "      border: none;\n",
              "      border-radius: 50%;\n",
              "      cursor: pointer;\n",
              "      display: none;\n",
              "      fill: #1967D2;\n",
              "      height: 32px;\n",
              "      padding: 0 0 0 0;\n",
              "      width: 32px;\n",
              "    }\n",
              "\n",
              "    .colab-df-convert:hover {\n",
              "      background-color: #E2EBFA;\n",
              "      box-shadow: 0px 1px 2px rgba(60, 64, 67, 0.3), 0px 1px 3px 1px rgba(60, 64, 67, 0.15);\n",
              "      fill: #174EA6;\n",
              "    }\n",
              "\n",
              "    [theme=dark] .colab-df-convert {\n",
              "      background-color: #3B4455;\n",
              "      fill: #D2E3FC;\n",
              "    }\n",
              "\n",
              "    [theme=dark] .colab-df-convert:hover {\n",
              "      background-color: #434B5C;\n",
              "      box-shadow: 0px 1px 3px 1px rgba(0, 0, 0, 0.15);\n",
              "      filter: drop-shadow(0px 1px 2px rgba(0, 0, 0, 0.3));\n",
              "      fill: #FFFFFF;\n",
              "    }\n",
              "  </style>\n",
              "\n",
              "      <script>\n",
              "        const buttonEl =\n",
              "          document.querySelector('#df-594510d6-3907-4c4d-986b-fcde5e0d75f8 button.colab-df-convert');\n",
              "        buttonEl.style.display =\n",
              "          google.colab.kernel.accessAllowed ? 'block' : 'none';\n",
              "\n",
              "        async function convertToInteractive(key) {\n",
              "          const element = document.querySelector('#df-594510d6-3907-4c4d-986b-fcde5e0d75f8');\n",
              "          const dataTable =\n",
              "            await google.colab.kernel.invokeFunction('convertToInteractive',\n",
              "                                                     [key], {});\n",
              "          if (!dataTable) return;\n",
              "\n",
              "          const docLinkHtml = 'Like what you see? Visit the ' +\n",
              "            '<a target=\"_blank\" href=https://colab.research.google.com/notebooks/data_table.ipynb>data table notebook</a>'\n",
              "            + ' to learn more about interactive tables.';\n",
              "          element.innerHTML = '';\n",
              "          dataTable['output_type'] = 'display_data';\n",
              "          await google.colab.output.renderOutput(dataTable, element);\n",
              "          const docLink = document.createElement('div');\n",
              "          docLink.innerHTML = docLinkHtml;\n",
              "          element.appendChild(docLink);\n",
              "        }\n",
              "      </script>\n",
              "    </div>\n",
              "  </div>\n",
              "  "
            ]
          },
          "metadata": {},
          "execution_count": 32
        }
      ]
    },
    {
      "cell_type": "markdown",
      "source": [
        "##Tensorflow Hub\n",
        "Training Model"
      ],
      "metadata": {
        "id": "QxLCaN-cOFn0"
      }
    },
    {
      "cell_type": "code",
      "source": [
        "!pip install transformers SentencePiece -q"
      ],
      "metadata": {
        "id": "ztvwd-gZRgxU"
      },
      "execution_count": null,
      "outputs": []
    },
    {
      "cell_type": "code",
      "source": [
        "import tensorflow as tf\n",
        "tf . print(tf. __version__)"
      ],
      "metadata": {
        "colab": {
          "base_uri": "https://localhost:8080/"
        },
        "id": "Ewas7Oy8jo8y",
        "outputId": "3df528fc-308d-449f-99e5-de86c154e266"
      },
      "execution_count": null,
      "outputs": [
        {
          "output_type": "stream",
          "name": "stdout",
          "text": [
            "2.10.0\n"
          ]
        }
      ]
    },
    {
      "cell_type": "code",
      "source": [
        "!pip install tensorflow-text -q"
      ],
      "metadata": {
        "id": "mui_3jMooQsZ"
      },
      "execution_count": null,
      "outputs": []
    },
    {
      "cell_type": "markdown",
      "source": [
        "Restart if Error"
      ],
      "metadata": {
        "id": "UItHTVdfoSsh"
      }
    },
    {
      "cell_type": "code",
      "source": [
        "#!pip install -q -U \"tensorflow-text==2.8.*\"\n",
        "import tensorflow_text as text"
      ],
      "metadata": {
        "id": "C65i6ja5j6fJ"
      },
      "execution_count": null,
      "outputs": []
    },
    {
      "cell_type": "code",
      "source": [
        "import os\n",
        "import tensorflow as tf\n",
        "import tensorflow_hub as hub\n",
        "tf . print(tf. __version__)"
      ],
      "metadata": {
        "colab": {
          "base_uri": "https://localhost:8080/"
        },
        "id": "ZugVp4MIj8Gu",
        "outputId": "651eae55-d82e-421b-af9f-d96d827d2027"
      },
      "execution_count": null,
      "outputs": [
        {
          "output_type": "stream",
          "name": "stdout",
          "text": [
            "2.10.0\n"
          ]
        }
      ]
    },
    {
      "cell_type": "markdown",
      "source": [
        "### Downloading Model from Tensorflow Hub\n",
        "We are using [BERT model](https://tfhub.dev/tensorflow/bert_en_uncased_L-12_H-768_A-12/4)  and preprocessing/encoder [T-hub](https://tfhub.dev/tensorflow/bert_en_uncased_preprocess/3)"
      ],
      "metadata": {
        "id": "FsdBTo_uOiAb"
      }
    },
    {
      "cell_type": "code",
      "source": [
        "preprocessor = hub.KerasLayer(\"https://tfhub.dev/jeongukjae/distilbert_en_cased_preprocess/2\")\n",
        "encoder = hub.KerasLayer(\"https://tfhub.dev/jeongukjae/distilbert_en_cased_L-6_H-768_A-12/1\",trainable=False)"
      ],
      "metadata": {
        "id": "sTpqqDlFj-fy",
        "colab": {
          "base_uri": "https://localhost:8080/"
        },
        "outputId": "1c54b393-a9ce-4e12-dd67-5b7521878064"
      },
      "execution_count": null,
      "outputs": [
        {
          "output_type": "stream",
          "name": "stderr",
          "text": [
            "WARNING:tensorflow:Please fix your imports. Module tensorflow.python.training.tracking.data_structures has been moved to tensorflow.python.trackable.data_structures. The old module will be deleted in version 2.11.\n"
          ]
        }
      ]
    },
    {
      "cell_type": "code",
      "source": [
        "text_input = tf.keras.layers.Input(shape=(), dtype=tf.string, name='text')\n",
        "preprocessed_text = preprocessor(text_input)\n",
        "outputs = encoder(preprocessed_text)\n",
        "\n",
        "# Neural network layers\n",
        "l = tf.keras.layers.Dropout(0.1, name=\"dropout\")(outputs['pooled_output'])\n",
        "l = tf.keras.layers.Dense(num_classes, activation='sigmoid', name=\"output\")(l)\n",
        "\n",
        "# Use inputs and outputs to construct a final model\n",
        "model = tf.keras.Model(inputs=[text_input], outputs = [l])"
      ],
      "metadata": {
        "id": "EKsuBi7wkACV"
      },
      "execution_count": null,
      "outputs": []
    },
    {
      "cell_type": "code",
      "source": [
        "model.summary()"
      ],
      "metadata": {
        "colab": {
          "base_uri": "https://localhost:8080/"
        },
        "id": "xTqH5BigkBgU",
        "outputId": "9b9c93d8-83cc-43db-c060-0fb3bb3ac1dd"
      },
      "execution_count": null,
      "outputs": [
        {
          "output_type": "stream",
          "name": "stdout",
          "text": [
            "Model: \"model\"\n",
            "__________________________________________________________________________________________________\n",
            " Layer (type)                   Output Shape         Param #     Connected to                     \n",
            "==================================================================================================\n",
            " text (InputLayer)              [(None,)]            0           []                               \n",
            "                                                                                                  \n",
            " keras_layer (KerasLayer)       {'input_word_ids':   0           ['text[0][0]']                   \n",
            "                                (None, 128),                                                      \n",
            "                                 'input_mask': (Non                                               \n",
            "                                e, 128)}                                                          \n",
            "                                                                                                  \n",
            " keras_layer_1 (KerasLayer)     {'encoder_outputs':  65190912    ['keras_layer[0][0]',            \n",
            "                                 [(None, 128, 768),               'keras_layer[0][1]']            \n",
            "                                 (None, 128, 768),                                                \n",
            "                                 (None, 128, 768),                                                \n",
            "                                 (None, 128, 768),                                                \n",
            "                                 (None, 128, 768),                                                \n",
            "                                 (None, 128, 768)],                                               \n",
            "                                 'sequence_output':                                               \n",
            "                                 (None, 128, 768),                                                \n",
            "                                 'pooled_output': (                                               \n",
            "                                None, 768)}                                                       \n",
            "                                                                                                  \n",
            " dropout (Dropout)              (None, 768)          0           ['keras_layer_1[0][6]']          \n",
            "                                                                                                  \n",
            " output (Dense)                 (None, 213)          163797      ['dropout[0][0]']                \n",
            "                                                                                                  \n",
            "==================================================================================================\n",
            "Total params: 65,354,709\n",
            "Trainable params: 163,797\n",
            "Non-trainable params: 65,190,912\n",
            "__________________________________________________________________________________________________\n"
          ]
        }
      ]
    },
    {
      "cell_type": "code",
      "source": [
        "#defining metrics\n",
        "METRICS = [\n",
        "      tf.keras.metrics.BinaryAccuracy(name='accuracy'),\n",
        "      tf.keras.metrics.Precision(name='precision'),\n",
        "      tf.keras.metrics.Recall(name='recall')\n",
        "]\n",
        "\n",
        "model.compile(optimizer='adam',\n",
        "              loss='binary_crossentropy',\n",
        "              metrics=METRICS)"
      ],
      "metadata": {
        "id": "T5PUAchqkDeq"
      },
      "execution_count": null,
      "outputs": []
    },
    {
      "cell_type": "code",
      "source": [
        "#converting list to tensorflow dataset object\n",
        "train_list=train[\"Summary\"].to_list()\n",
        "test_list=test[\"Summary\"].to_list()\n",
        "\n",
        "ytrain_list=train[\"label\"].to_list()\n",
        "ytest_list=test[\"label\"].to_list()\n",
        "\n",
        "train_ds=tf.data.Dataset.from_tensor_slices((train_list,ytrain_list))\n",
        "test_ds =tf.data.Dataset.from_tensor_slices((test_list,ytest_list))"
      ],
      "metadata": {
        "id": "CsRY0z0gkFEW"
      },
      "execution_count": null,
      "outputs": []
    },
    {
      "cell_type": "code",
      "source": [
        "#creating batch and shuffling data\n",
        "train_ds = train_ds.shuffle(10000).batch(16, drop_remainder=True)\n",
        "test_ds = test_ds.shuffle(10000).batch(16, drop_remainder=True)"
      ],
      "metadata": {
        "id": "2uc53HHmkLiQ"
      },
      "execution_count": null,
      "outputs": []
    },
    {
      "cell_type": "code",
      "source": [
        "model.fit(train_ds,validation_data=test_ds, epochs=10)"
      ],
      "metadata": {
        "colab": {
          "base_uri": "https://localhost:8080/"
        },
        "id": "g2nUSp-6kMcf",
        "outputId": "737d44e9-5919-4bad-c586-a1775ba08db6"
      },
      "execution_count": null,
      "outputs": [
        {
          "output_type": "stream",
          "name": "stdout",
          "text": [
            "Epoch 1/10\n",
            "2110/2110 [==============================] - 267s 123ms/step - loss: 0.0576 - accuracy: 0.9832 - precision: 0.4864 - recall: 0.1147 - val_loss: 0.0506 - val_accuracy: 0.9846 - val_precision: 0.6246 - val_recall: 0.1688\n",
            "Epoch 2/10\n",
            "2110/2110 [==============================] - 261s 124ms/step - loss: 0.0501 - accuracy: 0.9846 - precision: 0.6320 - recall: 0.1781 - val_loss: 0.0491 - val_accuracy: 0.9847 - val_precision: 0.6558 - val_recall: 0.1539\n",
            "Epoch 3/10\n",
            "2110/2110 [==============================] - 259s 123ms/step - loss: 0.0487 - accuracy: 0.9847 - precision: 0.6345 - recall: 0.1964 - val_loss: 0.0483 - val_accuracy: 0.9848 - val_precision: 0.6236 - val_recall: 0.1998\n",
            "Epoch 4/10\n",
            "2110/2110 [==============================] - 259s 123ms/step - loss: 0.0480 - accuracy: 0.9847 - precision: 0.6327 - recall: 0.2040 - val_loss: 0.0478 - val_accuracy: 0.9850 - val_precision: 0.6454 - val_recall: 0.1960\n",
            "Epoch 5/10\n",
            "2110/2110 [==============================] - 260s 123ms/step - loss: 0.0474 - accuracy: 0.9848 - precision: 0.6345 - recall: 0.2107 - val_loss: 0.0474 - val_accuracy: 0.9850 - val_precision: 0.6458 - val_recall: 0.2027\n",
            "Epoch 6/10\n",
            "2110/2110 [==============================] - 258s 122ms/step - loss: 0.0471 - accuracy: 0.9848 - precision: 0.6334 - recall: 0.2143 - val_loss: 0.0474 - val_accuracy: 0.9850 - val_precision: 0.6499 - val_recall: 0.1962\n",
            "Epoch 7/10\n",
            "2110/2110 [==============================] - 258s 122ms/step - loss: 0.0468 - accuracy: 0.9848 - precision: 0.6327 - recall: 0.2170 - val_loss: 0.0472 - val_accuracy: 0.9850 - val_precision: 0.6138 - val_recall: 0.2426\n",
            "Epoch 8/10\n",
            "2110/2110 [==============================] - 258s 122ms/step - loss: 0.0466 - accuracy: 0.9849 - precision: 0.6343 - recall: 0.2195 - val_loss: 0.0472 - val_accuracy: 0.9850 - val_precision: 0.6488 - val_recall: 0.1976\n",
            "Epoch 9/10\n",
            "2110/2110 [==============================] - 256s 122ms/step - loss: 0.0464 - accuracy: 0.9849 - precision: 0.6338 - recall: 0.2218 - val_loss: 0.0469 - val_accuracy: 0.9851 - val_precision: 0.6445 - val_recall: 0.2104\n",
            "Epoch 10/10\n",
            "2110/2110 [==============================] - 258s 122ms/step - loss: 0.0463 - accuracy: 0.9849 - precision: 0.6310 - recall: 0.2225 - val_loss: 0.0471 - val_accuracy: 0.9849 - val_precision: 0.6587 - val_recall: 0.1803\n"
          ]
        },
        {
          "output_type": "execute_result",
          "data": {
            "text/plain": [
              "<keras.callbacks.History at 0x7f7d422acf10>"
            ]
          },
          "metadata": {},
          "execution_count": 44
        }
      ]
    },
    {
      "cell_type": "code",
      "source": [
        "model.evaluate(test_list, ytest_list)"
      ],
      "metadata": {
        "id": "pJqU7qMqE9Ci",
        "colab": {
          "base_uri": "https://localhost:8080/"
        },
        "outputId": "f9f77ec2-0fd8-4b0e-de00-880dadfaf416"
      },
      "execution_count": null,
      "outputs": [
        {
          "output_type": "stream",
          "name": "stdout",
          "text": [
            "264/264 [==============================] - 55s 202ms/step - loss: 0.0471 - accuracy: 0.9849 - precision: 0.6587 - recall: 0.1804\n"
          ]
        },
        {
          "output_type": "execute_result",
          "data": {
            "text/plain": [
              "[0.04710962995886803,\n",
              " 0.9849299192428589,\n",
              " 0.6586686372756958,\n",
              " 0.18039360642433167]"
            ]
          },
          "metadata": {},
          "execution_count": 45
        }
      ]
    },
    {
      "cell_type": "code",
      "source": [
        "y_pred = model.predict(test_list)"
      ],
      "metadata": {
        "id": "rGWdnMI_bwWO",
        "colab": {
          "base_uri": "https://localhost:8080/"
        },
        "outputId": "32d5e37c-fb4f-44d5-edeb-527979adbbd1"
      },
      "execution_count": null,
      "outputs": [
        {
          "output_type": "stream",
          "name": "stdout",
          "text": [
            "264/264 [==============================] - 53s 197ms/step\n"
          ]
        }
      ]
    },
    {
      "cell_type": "code",
      "source": [
        "y_pred[0]"
      ],
      "metadata": {
        "id": "1PABJqlab01J",
        "colab": {
          "base_uri": "https://localhost:8080/"
        },
        "outputId": "6e015b82-6de6-4fd8-e930-3e9178da5938"
      },
      "execution_count": null,
      "outputs": [
        {
          "output_type": "execute_result",
          "data": {
            "text/plain": [
              "array([2.26871390e-03, 2.69375682e-01, 2.11380166e-03, 8.09401274e-03,\n",
              "       1.17340259e-01, 5.82873763e-05, 6.65806409e-04, 1.64241791e-01,\n",
              "       1.04105491e-02, 1.66529452e-03, 7.72699341e-02, 2.75012608e-05,\n",
              "       1.51502597e-03, 1.52462875e-04, 6.09088736e-03, 6.40224278e-01,\n",
              "       3.59806456e-02, 1.11984278e-04, 1.22140220e-04, 6.22297637e-03,\n",
              "       1.29130189e-04, 3.91040317e-04, 1.05190894e-03, 1.50563773e-02,\n",
              "       2.96514045e-04, 5.44931623e-04, 1.61933815e-04, 7.67984195e-03,\n",
              "       3.00192088e-02, 3.13612050e-03, 1.03905564e-03, 1.11333447e-05,\n",
              "       6.75433688e-03, 6.80585508e-04, 3.70656932e-03, 1.23177801e-04,\n",
              "       8.36724788e-03, 6.37782970e-03, 2.23523155e-02, 2.24700151e-03,\n",
              "       6.86602492e-04, 4.50946362e-04, 2.25430529e-04, 2.06402034e-01,\n",
              "       3.31441802e-03, 1.14475413e-04, 6.21216819e-02, 2.33523478e-03,\n",
              "       3.16051592e-04, 1.49125315e-03, 2.29752925e-03, 1.55124115e-02,\n",
              "       1.43488171e-04, 1.65860518e-03, 2.42590628e-04, 1.95291286e-04,\n",
              "       4.58125211e-02, 2.90073716e-04, 1.38167513e-03, 9.59213998e-04,\n",
              "       3.54748033e-02, 8.79536010e-03, 5.36503866e-02, 4.82916919e-04,\n",
              "       2.47298885e-04, 5.23761148e-03, 2.85569066e-03, 7.24740187e-03,\n",
              "       1.88807360e-04, 1.64329750e-03, 3.87430307e-04, 3.53484787e-02,\n",
              "       1.84051935e-02, 7.58900773e-03, 1.63362478e-03, 1.48334657e-04,\n",
              "       5.90104100e-05, 1.98860143e-04, 1.18748678e-04, 1.67184754e-03,\n",
              "       1.44522847e-03, 3.24506429e-03, 3.02258122e-05, 4.91547806e-04,\n",
              "       3.14027905e-01, 1.85241376e-03, 5.02979718e-02, 2.72457697e-03,\n",
              "       2.78369547e-03, 1.47515248e-05, 7.60282157e-04, 3.71994986e-03,\n",
              "       8.76382866e-04, 1.50082515e-05, 2.19891500e-03, 1.91870041e-03,\n",
              "       5.54031612e-05, 5.99525520e-05, 1.02665050e-04, 5.65267343e-04,\n",
              "       1.81032810e-05, 7.98038032e-04, 1.82787154e-03, 1.19153538e-03,\n",
              "       1.16742996e-03, 5.03574556e-04, 2.32891456e-04, 3.32531024e-04,\n",
              "       1.39883603e-03, 2.73456651e-04, 9.73743081e-05, 7.14180569e-05,\n",
              "       2.40220848e-04, 9.58357530e-04, 9.15226468e-04, 9.24707353e-02,\n",
              "       1.03543391e-02, 1.05321119e-02, 5.16917929e-02, 1.08490403e-05,\n",
              "       2.43039585e-06, 3.33347805e-02, 7.85066106e-04, 1.49769272e-04,\n",
              "       8.81265965e-04, 2.29104153e-05, 1.11010932e-05, 4.19933954e-03,\n",
              "       1.31168216e-03, 5.12103143e-04, 1.02608019e-05, 3.94904695e-04,\n",
              "       1.27267605e-03, 1.03973141e-02, 9.81141068e-03, 6.34905882e-04,\n",
              "       7.66001921e-03, 4.24687714e-05, 1.96344714e-04, 7.48589728e-03,\n",
              "       1.71125663e-04, 2.40609678e-03, 7.02611069e-05, 5.81960194e-04,\n",
              "       9.12052244e-02, 1.81677553e-03, 2.57768115e-05, 1.40164176e-03,\n",
              "       2.33140512e-04, 6.10820483e-04, 1.68100419e-03, 8.41964094e-04,\n",
              "       1.43029334e-04, 3.28602735e-04, 4.99703968e-03, 5.29305777e-03,\n",
              "       9.12630756e-04, 1.09095208e-03, 9.51000839e-04, 3.93572191e-05,\n",
              "       3.66069376e-04, 3.17085214e-05, 3.60050144e-05, 3.34243686e-03,\n",
              "       9.96615272e-04, 7.00354285e-04, 7.69410544e-05, 7.75433364e-06,\n",
              "       7.63434917e-03, 1.42563935e-02, 2.63156705e-02, 8.00905406e-01,\n",
              "       1.49891758e-03, 2.26937103e-04, 2.43882838e-04, 4.30979103e-01,\n",
              "       1.76800822e-03, 1.02729648e-02, 6.65069837e-03, 1.56754904e-05,\n",
              "       3.84802726e-04, 1.44352336e-04, 2.08433863e-04, 3.86798172e-04,\n",
              "       2.54047406e-03, 7.32089160e-04, 1.59265229e-03, 3.44072538e-03,\n",
              "       5.53655496e-04, 1.81728788e-02, 1.22842807e-02, 8.36884454e-02,\n",
              "       7.14318780e-03, 1.07734452e-03, 4.98005329e-03, 2.45075586e-04,\n",
              "       2.61202018e-04, 4.65636112e-05, 1.44871912e-04, 2.80580167e-02,\n",
              "       2.60333661e-02, 1.80454284e-01, 8.88817012e-03, 2.17363940e-05,\n",
              "       4.31916327e-04, 2.14826523e-05, 1.04295323e-03, 1.13899726e-03,\n",
              "       3.67609970e-03, 1.18072727e-03, 2.98683345e-02, 5.42574853e-05,\n",
              "       4.72648516e-02], dtype=float32)"
            ]
          },
          "metadata": {},
          "execution_count": 47
        }
      ]
    },
    {
      "cell_type": "code",
      "source": [
        "#convering y_pred to 0 & 1\n",
        "import numpy as np\n",
        "\n",
        "y_predicted = np.where(y_pred > 0.08, 1, 0)\n",
        "y_predicted"
      ],
      "metadata": {
        "id": "TH_NOhbab2nM",
        "colab": {
          "base_uri": "https://localhost:8080/"
        },
        "outputId": "066a4f43-a097-4588-c0ff-2a724a916380"
      },
      "execution_count": null,
      "outputs": [
        {
          "output_type": "execute_result",
          "data": {
            "text/plain": [
              "array([[0, 1, 0, ..., 0, 0, 0],\n",
              "       [0, 1, 0, ..., 1, 0, 0],\n",
              "       [0, 0, 0, ..., 1, 0, 0],\n",
              "       ...,\n",
              "       [0, 1, 0, ..., 0, 0, 0],\n",
              "       [0, 1, 0, ..., 1, 0, 0],\n",
              "       [0, 1, 0, ..., 1, 0, 0]])"
            ]
          },
          "metadata": {},
          "execution_count": 54
        }
      ]
    },
    {
      "cell_type": "code",
      "source": [
        "print(\"Movie Summary: \", dataset['Summary'][4])\n",
        "print(\"\\nPredicted genre:\",end=' ')\n",
        "b=[]\n",
        "for i,j in enumerate(y_predicted[4]):\n",
        "  if j==1:\n",
        "    b.append(i)\n",
        "for i in b:\n",
        "  print(genres_name[i], end=', ')\n",
        "print(\"\\n\")\n",
        "print(\"Actual genre:\",end=' ')\n",
        "a=[]\n",
        "for i,j in enumerate(dataset['label'][4]):\n",
        "  if j==1:\n",
        "    a.append(i)\n",
        "for i in a:\n",
        "  print(genres_name[i], end=', ')"
      ],
      "metadata": {
        "id": "_mPJwiNKb5fR",
        "colab": {
          "base_uri": "https://localhost:8080/"
        },
        "outputId": "bc14b67c-3716-4906-837c-2d80ce1b883d"
      },
      "execution_count": null,
      "outputs": [
        {
          "output_type": "stream",
          "name": "stdout",
          "text": [
            "Movie Summary:  adam a san francisco based artist who works as a cab driver on the side is having a hard time committing to his girlfriend nina she wants to take their relationship to the next level but he hasnt really gotten over his ex girlfriend kate who left him for another woman and is reluctant to move forward with nina because hes still hanging on to the idea that one day kate will come back to him feeling neglected nina breaks up with adam and starts seeing kevin a womanizing bartender who is also adams best friend meanwhile rebecca the new girl in town gets a job in kevins bar and begins an affair with anne the woman kate left adam for tired of her infidelities kate breaks up with anne and returns to adam however she soon realises that shes not in love with him anymore and breaks up with him for good rebecca soon tires of anne and breaks off their affair one day she meets adam who is finally attempting to move on from kate once and for all and they go out on a date nina and kevins fling turns into something deeper when she finds out that shes pregnant an event that strains adams friendship with kevin and threatens to ruin his budding relationship with rebecca before it has a chance to begin\n",
            "\n",
            "Predicted genre: Action, Action/Adventure, Black-and-white, Comedy, Drama, Romance Film, World cinema, \n",
            "\n",
            "Actual genre: Comedy, Comedy-drama, Drama, Ensemble Film, Romance Film, Romantic comedy, Romantic drama, "
          ]
        }
      ]
    },
    {
      "cell_type": "code",
      "source": [
        "#classification report\n",
        "from sklearn.metrics import confusion_matrix, classification_report\n",
        "print(classification_report(ytest_list, y_predicted))"
      ],
      "metadata": {
        "colab": {
          "base_uri": "https://localhost:8080/"
        },
        "id": "taJBV5a6Vx40",
        "outputId": "2848ba38-4d31-430b-a49a-a68c5ddc9da7"
      },
      "execution_count": null,
      "outputs": [
        {
          "output_type": "stream",
          "name": "stdout",
          "text": [
            "              precision    recall  f1-score   support\n",
            "\n",
            "           0       0.00      0.00      0.00        19\n",
            "           1       0.30      0.87      0.44      1205\n",
            "           2       0.02      0.03      0.03        34\n",
            "           3       0.19      0.22      0.21       101\n",
            "           4       0.24      0.82      0.37       732\n",
            "           5       0.00      0.00      0.00         9\n",
            "           6       0.26      0.25      0.26        20\n",
            "           7       0.22      0.77      0.35       640\n",
            "           8       0.00      0.00      0.00        26\n",
            "           9       0.08      0.44      0.14         9\n",
            "          10       0.18      0.41      0.25        22\n",
            "          11       0.00      0.00      0.00        13\n",
            "          12       0.20      0.15      0.17        20\n",
            "          13       0.00      0.00      0.00         8\n",
            "          14       0.00      0.00      0.00        18\n",
            "          15       0.34      0.78      0.47       445\n",
            "          16       0.16      0.59      0.25        56\n",
            "          17       0.00      0.00      0.00         6\n",
            "          18       0.00      0.00      0.00         6\n",
            "          19       0.00      0.00      0.00        10\n",
            "          20       0.13      0.03      0.05        63\n",
            "          21       0.62      0.45      0.53        11\n",
            "          22       0.20      0.15      0.17        20\n",
            "          23       0.15      0.11      0.13        73\n",
            "          24       0.16      0.36      0.23       117\n",
            "          25       0.17      0.54      0.26       132\n",
            "          26       0.16      0.27      0.20        73\n",
            "          27       0.15      0.07      0.09       169\n",
            "          28       0.21      0.65      0.31       684\n",
            "          29       0.40      0.10      0.16        20\n",
            "          30       0.20      0.77      0.32       190\n",
            "          31       0.39      0.70      0.50        10\n",
            "          32       0.09      0.20      0.13        66\n",
            "          33       0.50      0.06      0.11        16\n",
            "          34       0.12      0.06      0.08        17\n",
            "          35       0.00      0.00      0.00        21\n",
            "          36       0.14      0.10      0.11        81\n",
            "          37       0.13      0.18      0.15        49\n",
            "          38       0.20      0.27      0.23       148\n",
            "          39       0.55      0.76      0.64       234\n",
            "          40       0.26      0.31      0.28        26\n",
            "          41       0.07      0.07      0.07        14\n",
            "          42       0.31      0.57      0.40        14\n",
            "          43       0.30      0.95      0.46      2052\n",
            "          44       0.00      0.00      0.00        12\n",
            "          45       0.04      0.14      0.06         7\n",
            "          46       0.08      0.64      0.15       332\n",
            "          47       0.00      0.00      0.00        34\n",
            "          48       0.20      0.02      0.04        48\n",
            "          49       0.12      0.33      0.17       254\n",
            "          50       0.12      0.57      0.19       146\n",
            "          51       0.13      0.06      0.08        34\n",
            "          52       0.09      0.09      0.09        11\n",
            "          53       0.07      0.30      0.11        10\n",
            "          54       0.30      0.44      0.36        68\n",
            "          55       0.24      0.36      0.29        36\n",
            "          56       0.11      0.12      0.11        72\n",
            "          57       0.00      0.00      0.00         5\n",
            "          58       0.10      0.04      0.06        50\n",
            "          59       0.21      0.16      0.18        76\n",
            "          60       0.29      0.74      0.42       891\n",
            "          61       0.21      0.58      0.31       345\n",
            "          62       0.17      0.17      0.17       143\n",
            "          63       0.17      0.29      0.22        35\n",
            "          64       0.26      0.38      0.31        13\n",
            "          65       0.08      0.30      0.13        54\n",
            "          66       0.10      0.25      0.14        44\n",
            "          67       0.19      0.41      0.26        54\n",
            "          68       0.25      0.02      0.04        49\n",
            "          69       0.45      0.79      0.58       250\n",
            "          70       0.05      0.03      0.04        34\n",
            "          71       0.00      0.00      0.00        25\n",
            "          72       0.49      0.99      0.65      3852\n",
            "          73       0.30      0.17      0.21        18\n",
            "          74       0.09      0.19      0.12        62\n",
            "          75       0.17      0.32      0.22        41\n",
            "          76       0.04      0.18      0.07        22\n",
            "          77       0.20      0.03      0.05        38\n",
            "          78       0.16      0.28      0.20        46\n",
            "          79       0.00      0.00      0.00         9\n",
            "          80       0.00      0.00      0.00         5\n",
            "          81       0.25      0.22      0.24        27\n",
            "          82       0.00      0.00      0.00         9\n",
            "          83       0.27      0.21      0.23       154\n",
            "          84       0.24      0.77      0.36       611\n",
            "          85       0.50      0.02      0.05        42\n",
            "          86       0.20      0.68      0.31       387\n",
            "          87       0.29      0.17      0.22        40\n",
            "          88       0.07      0.02      0.04        41\n",
            "          89       0.18      0.12      0.14        17\n",
            "          90       0.25      0.62      0.35        45\n",
            "          91       0.13      0.19      0.15       226\n",
            "          92       0.12      0.45      0.19       105\n",
            "          93       0.00      0.00      0.00         7\n",
            "          94       0.00      0.00      0.00         8\n",
            "          95       0.14      0.38      0.21        74\n",
            "          96       0.36      0.10      0.16        40\n",
            "          97       0.36      0.10      0.16        40\n",
            "          98       0.20      0.28      0.23        47\n",
            "          99       0.50      1.00      0.67         1\n",
            "         100       0.00      0.00      0.00         1\n",
            "         101       0.14      0.55      0.22        11\n",
            "         102       0.08      0.23      0.12        13\n",
            "         103       0.00      0.00      0.00        16\n",
            "         104       0.00      0.00      0.00        16\n",
            "         105       0.00      0.00      0.00        13\n",
            "         106       0.00      0.00      0.00         5\n",
            "         107       0.00      0.00      0.00         5\n",
            "         108       0.10      0.03      0.05        32\n",
            "         109       0.33      0.25      0.29         4\n",
            "         110       0.07      0.22      0.11         9\n",
            "         111       0.17      0.13      0.15        23\n",
            "         112       0.12      0.41      0.18        51\n",
            "         113       0.08      0.36      0.13        56\n",
            "         114       0.50      0.11      0.18        18\n",
            "         115       0.43      0.77      0.55       805\n",
            "         116       0.33      0.02      0.03        55\n",
            "         117       0.00      0.00      0.00         5\n",
            "         118       0.16      0.75      0.26       707\n",
            "         119       0.00      0.00      0.00         4\n",
            "         120       0.00      0.00      0.00         3\n",
            "         121       0.53      0.77      0.63       251\n",
            "         122       0.00      0.00      0.00         3\n",
            "         123       0.00      0.00      0.00         7\n",
            "         124       0.13      0.52      0.21       157\n",
            "         125       0.00      0.00      0.00         4\n",
            "         126       0.00      0.00      0.00        19\n",
            "         127       0.36      0.64      0.46       157\n",
            "         128       0.00      0.00      0.00         6\n",
            "         129       0.20      0.08      0.12        12\n",
            "         130       0.00      0.00      0.00         7\n",
            "         131       0.11      0.07      0.08        92\n",
            "         132       0.07      0.08      0.08        24\n",
            "         133       0.24      0.35      0.29        17\n",
            "         134       0.09      0.03      0.05        32\n",
            "         135       0.15      0.28      0.19        65\n",
            "         136       0.18      0.73      0.29       499\n",
            "         137       0.09      0.12      0.10        26\n",
            "         138       0.11      0.21      0.14        38\n",
            "         139       0.30      0.44      0.35       407\n",
            "         140       0.50      0.17      0.25         6\n",
            "         141       0.30      0.29      0.29        28\n",
            "         142       0.00      0.00      0.00        10\n",
            "         143       0.00      0.00      0.00        18\n",
            "         144       0.09      0.24      0.13       147\n",
            "         145       0.15      0.57      0.23       256\n",
            "         146       0.02      0.50      0.03         2\n",
            "         147       0.19      0.22      0.21        32\n",
            "         148       0.19      0.14      0.16       111\n",
            "         149       0.00      0.00      0.00        17\n",
            "         150       0.12      0.37      0.18        41\n",
            "         151       0.19      0.42      0.26        33\n",
            "         152       0.00      0.00      0.00        25\n",
            "         153       0.40      0.21      0.28        19\n",
            "         154       0.09      0.07      0.08        14\n",
            "         155       0.16      0.51      0.25       231\n",
            "         156       0.00      0.00      0.00         6\n",
            "         157       0.04      0.30      0.07        10\n",
            "         158       0.00      0.00      0.00        15\n",
            "         159       0.16      0.21      0.18        14\n",
            "         160       0.18      0.03      0.05        63\n",
            "         161       0.00      0.00      0.00         8\n",
            "         162       0.06      0.20      0.09         5\n",
            "         163       0.22      0.94      0.36      1285\n",
            "         164       0.16      0.71      0.26       400\n",
            "         165       0.16      0.68      0.26       509\n",
            "         166       0.00      0.00      0.00        14\n",
            "         167       0.33      0.20      0.25         5\n",
            "         168       0.20      0.03      0.06       116\n",
            "         169       0.00      0.00      0.00         6\n",
            "         170       0.07      0.09      0.08        22\n",
            "         171       0.42      0.79      0.54       486\n",
            "         172       0.00      0.00      0.00        40\n",
            "         173       0.17      0.04      0.06        56\n",
            "         174       0.00      0.00      0.00        10\n",
            "         175       0.35      0.73      0.47       637\n",
            "         176       0.26      0.41      0.32       237\n",
            "         177       0.11      0.15      0.13       100\n",
            "         178       0.30      0.36      0.33       125\n",
            "         179       0.00      0.00      0.00        20\n",
            "         180       0.31      0.50      0.38        18\n",
            "         181       0.00      0.00      0.00        27\n",
            "         182       0.00      0.00      0.00         3\n",
            "         183       0.14      0.29      0.19         7\n",
            "         184       0.00      0.00      0.00         3\n",
            "         185       0.53      0.69      0.60       151\n",
            "         186       0.26      0.70      0.38        61\n",
            "         187       0.00      0.00      0.00         6\n",
            "         188       0.00      0.00      0.00        11\n",
            "         189       0.04      0.04      0.04        23\n",
            "         190       0.20      0.05      0.07        22\n",
            "         191       0.16      0.42      0.24        52\n",
            "         192       0.10      0.41      0.16       108\n",
            "         193       0.20      0.05      0.08        19\n",
            "         194       0.09      0.19      0.12       129\n",
            "         195       0.10      0.31      0.15        13\n",
            "         196       0.30      0.43      0.35         7\n",
            "         197       0.33      0.12      0.18         8\n",
            "         198       0.00      0.00      0.00        13\n",
            "         199       0.14      0.71      0.24       164\n",
            "         200       0.07      0.20      0.11       134\n",
            "         201       0.26      0.89      0.40      1370\n",
            "         202       0.12      0.07      0.09        15\n",
            "         203       0.00      0.00      0.00         8\n",
            "         204       0.00      0.00      0.00        13\n",
            "         205       0.00      0.00      0.00         9\n",
            "         206       0.36      0.77      0.49       305\n",
            "         207       0.42      0.85      0.56       213\n",
            "         208       0.10      0.29      0.14         7\n",
            "         209       0.09      0.36      0.15        14\n",
            "         210       0.24      0.87      0.38       988\n",
            "         211       0.17      0.36      0.23        11\n",
            "         212       0.14      0.47      0.22        43\n",
            "\n",
            "   micro avg       0.26      0.68      0.37     29674\n",
            "   macro avg       0.15      0.26      0.17     29674\n",
            "weighted avg       0.27      0.68      0.37     29674\n",
            " samples avg       0.26      0.72      0.36     29674\n",
            "\n"
          ]
        },
        {
          "output_type": "stream",
          "name": "stderr",
          "text": [
            "/usr/local/lib/python3.7/dist-packages/sklearn/metrics/_classification.py:1318: UndefinedMetricWarning: Precision and F-score are ill-defined and being set to 0.0 in labels with no predicted samples. Use `zero_division` parameter to control this behavior.\n",
            "  _warn_prf(average, modifier, msg_start, len(result))\n",
            "/usr/local/lib/python3.7/dist-packages/sklearn/metrics/_classification.py:1318: UndefinedMetricWarning: Recall and F-score are ill-defined and being set to 0.0 in samples with no true labels. Use `zero_division` parameter to control this behavior.\n",
            "  _warn_prf(average, modifier, msg_start, len(result))\n"
          ]
        }
      ]
    },
    {
      "cell_type": "markdown",
      "source": [
        "##Saving Model"
      ],
      "metadata": {
        "id": "mBc6wuqZPdrW"
      }
    },
    {
      "cell_type": "code",
      "source": [
        "# Saving model to Gdrive\n",
        "version=1\n",
        "google_export_path = os.path.join(\"/content/drive/MyDrive/model/distil\", str(version))\n",
        "tf.keras.models.save_model(\n",
        "    model,\n",
        "    google_export_path,\n",
        "    overwrite=True,\n",
        "    include_optimizer=True,\n",
        "    save_format=None,\n",
        "    signatures=None,\n",
        "    options=None\n",
        ")"
      ],
      "metadata": {
        "id": "SbArX0cHTOsw",
        "colab": {
          "base_uri": "https://localhost:8080/"
        },
        "outputId": "0c4860fe-ec38-4895-d130-e12014452f59"
      },
      "execution_count": null,
      "outputs": [
        {
          "output_type": "stream",
          "name": "stderr",
          "text": [
            "WARNING:absl:Found untraced functions such as restored_function_body, restored_function_body, restored_function_body, restored_function_body, restored_function_body while saving (showing 5 of 180). These functions will not be directly callable after loading.\n"
          ]
        }
      ]
    },
    {
      "cell_type": "markdown",
      "source": [
        "##Serving"
      ],
      "metadata": {
        "id": "4X1SE4_HPm-A"
      }
    },
    {
      "cell_type": "code",
      "source": [
        "import sys\n",
        "import os\n",
        "import json\n",
        "import requests\n",
        "\n",
        "# We need sudo prefix if not on a Google Colab.\n",
        "if 'google.colab' not in sys.modules:\n",
        "  SUDO_IF_NEEDED = 'sudo'\n",
        "else:\n",
        "  SUDO_IF_NEEDED = ''"
      ],
      "metadata": {
        "id": "mJanfJonOckh"
      },
      "execution_count": null,
      "outputs": []
    },
    {
      "cell_type": "code",
      "source": [
        "!saved_model_cli show --dir /content/drive/MyDrive/model/distil/ --all"
      ],
      "metadata": {
        "colab": {
          "base_uri": "https://localhost:8080/"
        },
        "id": "qJUtfn1KOcc6",
        "outputId": "7a32abd5-02ab-4d9b-ae2e-1cffc825efb7"
      },
      "execution_count": null,
      "outputs": [
        {
          "output_type": "stream",
          "name": "stdout",
          "text": [
            "2022-10-18 19:10:15.652852: E tensorflow/stream_executor/cuda/cuda_blas.cc:2981] Unable to register cuBLAS factory: Attempting to register factory for plugin cuBLAS when one has already been registered\n",
            "2022-10-18 19:10:16.437546: W tensorflow/stream_executor/platform/default/dso_loader.cc:64] Could not load dynamic library 'libnvinfer.so.7'; dlerror: libnvinfer.so.7: cannot open shared object file: No such file or directory; LD_LIBRARY_PATH: /usr/lib64-nvidia\n",
            "2022-10-18 19:10:16.437644: W tensorflow/stream_executor/platform/default/dso_loader.cc:64] Could not load dynamic library 'libnvinfer_plugin.so.7'; dlerror: libnvinfer_plugin.so.7: cannot open shared object file: No such file or directory; LD_LIBRARY_PATH: /usr/lib64-nvidia\n",
            "2022-10-18 19:10:16.437661: W tensorflow/compiler/tf2tensorrt/utils/py_utils.cc:38] TF-TRT Warning: Cannot dlopen some TensorRT libraries. If you would like to use Nvidia GPU with TensorRT, please make sure the missing libraries mentioned above are installed properly.\n",
            "Traceback (most recent call last):\n",
            "  File \"/usr/local/bin/saved_model_cli\", line 8, in <module>\n",
            "    sys.exit(main())\n",
            "  File \"/usr/local/lib/python3.7/dist-packages/tensorflow/python/tools/saved_model_cli.py\", line 1285, in main\n",
            "    args.func(args)\n",
            "  File \"/usr/local/lib/python3.7/dist-packages/tensorflow/python/tools/saved_model_cli.py\", line 747, in show\n",
            "    _show_all(args.dir)\n",
            "  File \"/usr/local/lib/python3.7/dist-packages/tensorflow/python/tools/saved_model_cli.py\", line 303, in _show_all\n",
            "    tag_sets = saved_model_utils.get_saved_model_tag_sets(saved_model_dir)\n",
            "  File \"/usr/local/lib/python3.7/dist-packages/tensorflow/python/tools/saved_model_utils.py\", line 87, in get_saved_model_tag_sets\n",
            "    saved_model = read_saved_model(saved_model_dir)\n",
            "  File \"/usr/local/lib/python3.7/dist-packages/tensorflow/python/tools/saved_model_utils.py\", line 51, in read_saved_model\n",
            "    raise IOError(\"SavedModel file does not exist at: %s\" % saved_model_dir)\n",
            "OSError: SavedModel file does not exist at: /content/drive/MyDrive/model/distil/\n"
          ]
        }
      ]
    },
    {
      "cell_type": "code",
      "source": [
        "#installing tensorfllow server\n",
        "!wget 'http://storage.googleapis.com/tensorflow-serving-apt/pool/tensorflow-model-server-universal-2.8.0/t/tensorflow-model-server-universal/tensorflow-model-server-universal_2.8.0_all.deb'\n",
        "!dpkg -i tensorflow-model-server-universal_2.8.0_all.deb"
      ],
      "metadata": {
        "colab": {
          "base_uri": "https://localhost:8080/"
        },
        "id": "gS90_aMlOcjZ",
        "outputId": "a3dc7a34-0500-4ac5-c57e-acdd5837869b"
      },
      "execution_count": null,
      "outputs": [
        {
          "output_type": "stream",
          "name": "stdout",
          "text": [
            "--2022-10-18 19:10:28--  http://storage.googleapis.com/tensorflow-serving-apt/pool/tensorflow-model-server-universal-2.8.0/t/tensorflow-model-server-universal/tensorflow-model-server-universal_2.8.0_all.deb\n",
            "Resolving storage.googleapis.com (storage.googleapis.com)... 142.250.99.128, 74.125.20.128, 108.177.98.128, ...\n",
            "Connecting to storage.googleapis.com (storage.googleapis.com)|142.250.99.128|:80... connected.\n",
            "HTTP request sent, awaiting response... 200 OK\n",
            "Length: 335421916 (320M) [application/x-debian-package]\n",
            "Saving to: ‘tensorflow-model-server-universal_2.8.0_all.deb’\n",
            "\n",
            "tensorflow-model-se 100%[===================>] 319.88M  1.01MB/s    in 5m 23s  \n",
            "\n",
            "2022-10-18 19:15:51 (1015 KB/s) - ‘tensorflow-model-server-universal_2.8.0_all.deb’ saved [335421916/335421916]\n",
            "\n",
            "Selecting previously unselected package tensorflow-model-server-universal.\n",
            "(Reading database ... 123941 files and directories currently installed.)\n",
            "Preparing to unpack tensorflow-model-server-universal_2.8.0_all.deb ...\n",
            "Unpacking tensorflow-model-server-universal (2.8.0) ...\n",
            "Setting up tensorflow-model-server-universal (2.8.0) ...\n"
          ]
        }
      ]
    },
    {
      "cell_type": "code",
      "source": [
        "# creating environment variables\n",
        "os.environ[\"MODEL_DIR\"] = \"/content/drive/MyDrive/model/distil\"\n",
        "os.environ['TENSORFLOW_URL']=\"http://localhost:8503/v1/models/multilabel_model:predict\""
      ],
      "metadata": {
        "id": "kWHZJQRZOceM"
      },
      "execution_count": null,
      "outputs": []
    },
    {
      "cell_type": "code",
      "source": [
        "# Straring server\n",
        "%%bash --bg\n",
        "nohup tensorflow_model_server \\\n",
        "  --rest_api_port=8503 \\\n",
        "  --model_name=multilabel_model \\\n",
        "  --model_base_path=\"${MODEL_DIR}\" >server.log 2>&1"
      ],
      "metadata": {
        "id": "MdfLyzZ4OcX3"
      },
      "execution_count": null,
      "outputs": []
    },
    {
      "cell_type": "code",
      "source": [
        "# Checking log files\n",
        "!tail server.log"
      ],
      "metadata": {
        "id": "dUl4xlDXOcW4",
        "colab": {
          "base_uri": "https://localhost:8080/"
        },
        "outputId": "06615a98-74cd-493f-810e-2f1e3e3b70ca"
      },
      "execution_count": null,
      "outputs": [
        {
          "output_type": "stream",
          "name": "stdout",
          "text": [
            "2022-10-18 19:17:51.375761: W external/org_tensorflow/tensorflow/core/framework/cpu_allocator_impl.cc:82] Allocation of 89075712 exceeds 10% of free system memory.\n"
          ]
        }
      ]
    },
    {
      "cell_type": "code",
      "source": [
        "# Creating a json for rest api\n",
        "input_text = \"Hundreds of cash-strapped contestants accept an invitation to compete in children's games for a tempting prize, but the stakes are deadly.\"\n",
        "data = json.dumps({\"signature_name\": \"serving_default\", \"instances\": [input_text]})"
      ],
      "metadata": {
        "id": "vGazsz4nOcSc"
      },
      "execution_count": null,
      "outputs": []
    },
    {
      "cell_type": "code",
      "source": [
        "# getting prediction\n",
        "headers = {\"content-type\": \"application/json\"}\n",
        "json_response = requests.post('http://localhost:8503/v1/models/multilabel_model:predict', data=data, headers=headers)\n",
        "predictions = json.loads(json_response.text)"
      ],
      "metadata": {
        "id": "kDwwGLeKOcRc"
      },
      "execution_count": null,
      "outputs": []
    },
    {
      "cell_type": "code",
      "source": [
        "predictions"
      ],
      "metadata": {
        "colab": {
          "base_uri": "https://localhost:8080/"
        },
        "id": "AzO5xtPbOcMq",
        "outputId": "cfe802e4-d999-41db-9051-ef6bff5eb75f"
      },
      "execution_count": null,
      "outputs": [
        {
          "output_type": "execute_result",
          "data": {
            "text/plain": [
              "{'predictions': [[0.00319120288,\n",
              "   0.0256163478,\n",
              "   0.00462648273,\n",
              "   0.00111672282,\n",
              "   0.00738534331,\n",
              "   9.21501414e-05,\n",
              "   0.00400862098,\n",
              "   0.0214481354,\n",
              "   0.000470042229,\n",
              "   4.99941525e-05,\n",
              "   3.11262665e-05,\n",
              "   8.70727745e-05,\n",
              "   0.000384271145,\n",
              "   0.00151667,\n",
              "   0.000696986914,\n",
              "   0.0416319966,\n",
              "   0.00094011426,\n",
              "   3.50784321e-05,\n",
              "   4.93088482e-05,\n",
              "   2.1517706e-05,\n",
              "   0.000133544207,\n",
              "   0.000224232674,\n",
              "   0.000110733927,\n",
              "   0.00191131234,\n",
              "   0.000272572041,\n",
              "   0.000736117363,\n",
              "   0.000214874744,\n",
              "   0.00181114674,\n",
              "   0.0368079543,\n",
              "   0.000327378511,\n",
              "   0.000182777643,\n",
              "   0.000164955854,\n",
              "   0.00436624885,\n",
              "   0.000112032489,\n",
              "   0.000813752413,\n",
              "   0.000229984522,\n",
              "   0.0022970438,\n",
              "   0.000878274441,\n",
              "   0.0032428503,\n",
              "   0.00459128618,\n",
              "   6.3696818e-05,\n",
              "   0.00035867095,\n",
              "   1.86656016e-05,\n",
              "   0.278870434,\n",
              "   0.00528538227,\n",
              "   0.00100451708,\n",
              "   0.260988355,\n",
              "   0.000514030457,\n",
              "   0.000721842051,\n",
              "   0.0102220476,\n",
              "   0.00126588345,\n",
              "   0.000597387552,\n",
              "   7.90936756e-05,\n",
              "   0.000207036734,\n",
              "   2.47877106e-05,\n",
              "   0.00115251541,\n",
              "   0.000563770533,\n",
              "   0.000380069017,\n",
              "   0.000604182482,\n",
              "   0.000485986471,\n",
              "   0.0172156394,\n",
              "   0.00978446,\n",
              "   0.00110507011,\n",
              "   0.000335842371,\n",
              "   0.000471919775,\n",
              "   0.00915801525,\n",
              "   0.00503718853,\n",
              "   0.000110608853,\n",
              "   0.000171273947,\n",
              "   0.00219452381,\n",
              "   0.000507026911,\n",
              "   1.81232153e-05,\n",
              "   0.0493867695,\n",
              "   0.000131905079,\n",
              "   0.00108659267,\n",
              "   6.06311405e-05,\n",
              "   0.000368744135,\n",
              "   0.000267088413,\n",
              "   0.000822037458,\n",
              "   6.6122e-05,\n",
              "   0.00015515089,\n",
              "   0.000224739313,\n",
              "   9.72683338e-05,\n",
              "   0.00105038285,\n",
              "   0.0813089609,\n",
              "   0.000316560268,\n",
              "   0.00809395313,\n",
              "   0.000213623047,\n",
              "   0.000368565321,\n",
              "   4.53302782e-05,\n",
              "   0.00222489238,\n",
              "   0.000872582197,\n",
              "   0.000524163246,\n",
              "   5.01763789e-05,\n",
              "   0.000171661377,\n",
              "   0.000523328781,\n",
              "   2.09497448e-05,\n",
              "   2.34392537e-05,\n",
              "   3.89672823e-05,\n",
              "   0.00101494789,\n",
              "   7.48426246e-05,\n",
              "   8.57595933e-06,\n",
              "   0.00057798624,\n",
              "   0.000385135412,\n",
              "   0.000455349684,\n",
              "   2.9227067e-05,\n",
              "   0.000128120184,\n",
              "   0.000262916088,\n",
              "   9.58461169e-05,\n",
              "   0.000134050846,\n",
              "   6.33159871e-05,\n",
              "   4.76184832e-05,\n",
              "   0.000234931707,\n",
              "   0.000173002481,\n",
              "   0.00053408742,\n",
              "   0.0169779658,\n",
              "   0.000421315432,\n",
              "   0.000940084457,\n",
              "   0.0315546393,\n",
              "   8.93496544e-05,\n",
              "   6.83128928e-06,\n",
              "   0.0035379231,\n",
              "   0.000212520361,\n",
              "   0.000101839658,\n",
              "   0.000686883926,\n",
              "   2.71236172e-06,\n",
              "   1.40442453e-05,\n",
              "   0.00644174218,\n",
              "   8.66149e-06,\n",
              "   0.00213456154,\n",
              "   0.000174164772,\n",
              "   0.00188472867,\n",
              "   0.00279688835,\n",
              "   8.32069e-05,\n",
              "   0.000711202621,\n",
              "   0.00198215246,\n",
              "   0.0182171464,\n",
              "   6.98310832e-05,\n",
              "   0.00395649672,\n",
              "   0.0135516822,\n",
              "   5.21163965e-05,\n",
              "   0.000353604555,\n",
              "   6.75819247e-05,\n",
              "   2.47557e-05,\n",
              "   0.00922387838,\n",
              "   0.00141498446,\n",
              "   0.00148284435,\n",
              "   4.51244923e-05,\n",
              "   2.84619146e-05,\n",
              "   0.000432521105,\n",
              "   8.90070878e-05,\n",
              "   0.00476571918,\n",
              "   0.000437229872,\n",
              "   0.000184893608,\n",
              "   0.000607997179,\n",
              "   0.00407162309,\n",
              "   0.000111187153,\n",
              "   0.00191676617,\n",
              "   0.00031504035,\n",
              "   7.28770174e-05,\n",
              "   0.000346601,\n",
              "   2.60218039e-05,\n",
              "   5.80548522e-06,\n",
              "   0.0114707351,\n",
              "   0.00437736511,\n",
              "   0.00135776401,\n",
              "   3.7562455e-05,\n",
              "   0.000150591135,\n",
              "   0.00155738,\n",
              "   8.35258288e-06,\n",
              "   0.000137895346,\n",
              "   0.00169467926,\n",
              "   0.000930964947,\n",
              "   0.000451147556,\n",
              "   0.00089636445,\n",
              "   0.284675181,\n",
              "   0.00643286109,\n",
              "   0.00558373332,\n",
              "   0.0207526982,\n",
              "   0.000666350126,\n",
              "   8.135596e-05,\n",
              "   5.71197343e-05,\n",
              "   0.00145921111,\n",
              "   0.000203162432,\n",
              "   0.000114739589,\n",
              "   0.0394986272,\n",
              "   0.000427484512,\n",
              "   2.67920659e-05,\n",
              "   0.0026897192,\n",
              "   0.00264003873,\n",
              "   7.16863224e-06,\n",
              "   6.59214e-05,\n",
              "   0.00093048811,\n",
              "   0.000160336494,\n",
              "   0.00142449141,\n",
              "   4.82747e-06,\n",
              "   3.52616335e-05,\n",
              "   1.166535e-05,\n",
              "   0.000168114901,\n",
              "   0.00721985102,\n",
              "   0.00903129578,\n",
              "   0.0770772099,\n",
              "   6.99884331e-05,\n",
              "   1.00279567e-05,\n",
              "   7.24826314e-05,\n",
              "   0.000142484903,\n",
              "   0.000170171261,\n",
              "   0.00107461214,\n",
              "   0.0030271709,\n",
              "   0.000211775303,\n",
              "   0.0306059718,\n",
              "   0.000646948814,\n",
              "   0.00041437149]]}"
            ]
          },
          "metadata": {},
          "execution_count": 78
        }
      ]
    },
    {
      "cell_type": "markdown",
      "source": [
        "#Client app\n",
        "\n",
        "\n",
        "---\n",
        "\n",
        "Client app is made using Flask and port forwading is done using ngrok\n",
        "\n",
        "The app is made using [this](https://buffml.com/web-based-chatbot-using-flask-api/) reference and modified based on needs\n",
        "\n",
        "The Code is uploaded to [github repo](https://github.com/chiragdodiya/Capstone.git)"
      ],
      "metadata": {
        "id": "3FptLd5KPy3m"
      }
    },
    {
      "cell_type": "code",
      "source": [
        "# Clonning the repo\n",
        "! git clone https://github.com/chiragdodiya/Capstone.git"
      ],
      "metadata": {
        "colab": {
          "base_uri": "https://localhost:8080/"
        },
        "id": "H227mDYHOcGs",
        "outputId": "0b3ee470-1614-4ffa-a19b-f7388872fed5"
      },
      "execution_count": null,
      "outputs": [
        {
          "output_type": "stream",
          "name": "stdout",
          "text": [
            "Cloning into 'Capstone'...\n",
            "remote: Enumerating objects: 71, done.\u001b[K\n",
            "remote: Counting objects: 100% (71/71), done.\u001b[K\n",
            "remote: Compressing objects: 100% (60/60), done.\u001b[K\n",
            "remote: Total 71 (delta 23), reused 0 (delta 0), pack-reused 0\u001b[K\n",
            "Unpacking objects: 100% (71/71), done.\n"
          ]
        }
      ]
    },
    {
      "cell_type": "code",
      "source": [
        "# exporting class name as pickel file for use in flask app\n",
        "import pickle\n",
        "pickle.dump(genres_name, open('labels.pkl', 'wb'))"
      ],
      "metadata": {
        "id": "kTit_ycaOcFs"
      },
      "execution_count": null,
      "outputs": []
    },
    {
      "cell_type": "code",
      "source": [
        "# Installing the required packages\n",
        "!pip install -r Capstone/requirements.txt -q\n",
        "!pip install flask_ngrok pyngrok==4.1.1 -q"
      ],
      "metadata": {
        "colab": {
          "base_uri": "https://localhost:8080/"
        },
        "id": "jQ6i02tNOcBF",
        "outputId": "be4d4cd9-939d-471a-d0ab-6f553ac1ca9b"
      },
      "execution_count": null,
      "outputs": [
        {
          "output_type": "stream",
          "name": "stdout",
          "text": [
            "\u001b[?25l\r\u001b[K     |███████▎                        | 10 kB 34.4 MB/s eta 0:00:01\r\u001b[K     |██████████████▌                 | 20 kB 21.1 MB/s eta 0:00:01\r\u001b[K     |█████████████████████▊          | 30 kB 11.4 MB/s eta 0:00:01\r\u001b[K     |█████████████████████████████   | 40 kB 8.4 MB/s eta 0:00:01\r\u001b[K     |████████████████████████████████| 45 kB 2.8 MB/s \n",
            "\u001b[K     |████████████████████████████████| 96 kB 4.9 MB/s \n",
            "\u001b[K     |████████████████████████████████| 101 kB 12.8 MB/s \n",
            "\u001b[K     |████████████████████████████████| 61 kB 109 kB/s \n",
            "\u001b[K     |████████████████████████████████| 133 kB 68.9 MB/s \n",
            "\u001b[31mERROR: Could not find a version that satisfies the requirement numpy==1.22.2 (from versions: 1.3.0, 1.4.1, 1.5.0, 1.5.1, 1.6.0, 1.6.1, 1.6.2, 1.7.0, 1.7.1, 1.7.2, 1.8.0, 1.8.1, 1.8.2, 1.9.0, 1.9.1, 1.9.2, 1.9.3, 1.10.0.post2, 1.10.1, 1.10.2, 1.10.4, 1.11.0, 1.11.1, 1.11.2, 1.11.3, 1.12.0, 1.12.1, 1.13.0rc1, 1.13.0rc2, 1.13.0, 1.13.1, 1.13.3, 1.14.0rc1, 1.14.0, 1.14.1, 1.14.2, 1.14.3, 1.14.4, 1.14.5, 1.14.6, 1.15.0rc1, 1.15.0rc2, 1.15.0, 1.15.1, 1.15.2, 1.15.3, 1.15.4, 1.16.0rc1, 1.16.0rc2, 1.16.0, 1.16.1, 1.16.2, 1.16.3, 1.16.4, 1.16.5, 1.16.6, 1.17.0rc1, 1.17.0rc2, 1.17.0, 1.17.1, 1.17.2, 1.17.3, 1.17.4, 1.17.5, 1.18.0rc1, 1.18.0, 1.18.1, 1.18.2, 1.18.3, 1.18.4, 1.18.5, 1.19.0rc1, 1.19.0rc2, 1.19.0, 1.19.1, 1.19.2, 1.19.3, 1.19.4, 1.19.5, 1.20.0rc1, 1.20.0rc2, 1.20.0, 1.20.1, 1.20.2, 1.20.3, 1.21.0rc1, 1.21.0rc2, 1.21.0, 1.21.1, 1.21.2, 1.21.3, 1.21.4, 1.21.5, 1.21.6)\u001b[0m\n",
            "\u001b[31mERROR: No matching distribution found for numpy==1.22.2\u001b[0m\n",
            "\u001b[?25h  Building wheel for pyngrok (setup.py) ... \u001b[?25l\u001b[?25hdone\n"
          ]
        }
      ]
    },
    {
      "cell_type": "code",
      "source": [
        "# Adding authtoke for ngrok\n",
        "!ngrok authtoken 2GFs22Vkzzm4a4Md0gsiTQJOdXd_6ohk8HbGzKSYxJXvTBjR2"
      ],
      "metadata": {
        "colab": {
          "base_uri": "https://localhost:8080/"
        },
        "id": "LJ4iaM7rOcAJ",
        "outputId": "d3f816b7-0906-404b-cc9e-bd43b70781e7"
      },
      "execution_count": null,
      "outputs": [
        {
          "output_type": "stream",
          "name": "stdout",
          "text": [
            "Authtoken saved to configuration file: /root/.ngrok2/ngrok.yml\n"
          ]
        }
      ]
    },
    {
      "cell_type": "code",
      "source": [
        "# Setting environmet variables for use in app\n",
        "os.environ['pred_threshold']=\"0.2\""
      ],
      "metadata": {
        "id": "LwNXl3oXOb66"
      },
      "execution_count": null,
      "outputs": []
    },
    {
      "cell_type": "code",
      "source": [
        "# Booting the server\n",
        "%%bash --bg\n",
        "nohup tensorflow_model_server \\\n",
        "  --rest_api_port=8502 \\\n",
        "  --model_name=multilable_model \\\n",
        "  --model_base_path=\"${MODEL_DIR}\" >server.log 2>&1"
      ],
      "metadata": {
        "id": "2pYqIk-COb5-"
      },
      "execution_count": null,
      "outputs": []
    },
    {
      "cell_type": "code",
      "source": [
        "# Printing the logs\n",
        "!tail server.log"
      ],
      "metadata": {
        "id": "q2TlOsijOb03",
        "colab": {
          "base_uri": "https://localhost:8080/"
        },
        "outputId": "59aabef4-5043-460f-de67-62c117b87d29"
      },
      "execution_count": null,
      "outputs": [
        {
          "output_type": "stream",
          "name": "stdout",
          "text": [
            "2022-10-18 19:18:33.983554: W external/org_tensorflow/tensorflow/core/framework/cpu_allocator_impl.cc:82] Allocation of 89075712 exceeds 10% of free system memory.\n"
          ]
        }
      ]
    },
    {
      "cell_type": "code",
      "source": [
        "# Running the Server\n",
        "# Open the ngrok link to view in browser\n",
        "!sudo python /content/Capstone/app.py"
      ],
      "metadata": {
        "colab": {
          "base_uri": "https://localhost:8080/"
        },
        "id": "khyIs2U1Obzs",
        "outputId": "c9995439-c0ba-4e12-a616-2b1bc7f8dc0f"
      },
      "execution_count": null,
      "outputs": [
        {
          "output_type": "stream",
          "name": "stdout",
          "text": [
            " * Serving Flask app \"app\" (lazy loading)\n",
            " * Environment: production\n",
            "\u001b[31m   WARNING: This is a development server. Do not use it in a production deployment.\u001b[0m\n",
            "\u001b[2m   Use a production WSGI server instead.\u001b[0m\n",
            " * Debug mode: off\n",
            " * Running on http://127.0.0.1:5000/ (Press CTRL+C to quit)\n",
            " * Running on http://b5f8-35-185-255-205.ngrok.io\n",
            " * Traffic stats available on http://127.0.0.1:4040\n",
            "127.0.0.1 - - [18/Oct/2022 19:18:54] \"\u001b[37mGET / HTTP/1.1\u001b[0m\" 200 -\n",
            "127.0.0.1 - - [18/Oct/2022 19:18:55] \"\u001b[37mGET /static/styles/style.css HTTP/1.1\u001b[0m\" 200 -\n",
            "127.0.0.1 - - [18/Oct/2022 19:18:56] \"\u001b[33mGET /favicon.ico HTTP/1.1\u001b[0m\" 404 -\n",
            "127.0.0.1 - - [18/Oct/2022 19:19:13] \"\u001b[37mGET /get?msg=In%20Earth%27s%20future%2C%20a%20global%20crop%20blight%20and%20second%20Dust%20Bowl%20are%20slowly%20rendering%20the%20planet%20uninhabitable.%20Professor%20Brand%20(Michael%20Caine)%2C%20a%20brilliant%20NASA%20physicist%2C%20is%20working%20on%20plans%20to%20save%20mankind%20by%20transporting%20Earth%27s%20population%20to%20a%20new%20home%20via%20a%20wormhole.%20But%20first%2C%20Brand%20must%20send%20former%20NASA%20pilot%20Cooper%20(Matthew%20McConaughey)%20and%20a%20team%20of%20researchers%20through%20the%20wormhole%20and%20across%20the%20galaxy%20to%20find%20out%20which%20of%20three%20planets%20could%20be%20mankind%27s%20new%20home. HTTP/1.1\u001b[0m\" 200 -\n",
            "127.0.0.1 - - [18/Oct/2022 19:19:57] \"\u001b[37mGET /get?msg=In%20the%20world%20of%20international%20crime%2C%20an%20Interpol%20agent%20attempts%20to%20hunt%20down%20and%20capture%20the%20world%27s%20most%20wanted%20art%20thief. HTTP/1.1\u001b[0m\" 200 -\n",
            "127.0.0.1 - - [18/Oct/2022 19:20:23] \"\u001b[37mGET /get?msg=Adonis%20Johnson%20(Michael%20B.%20Jordan)%20never%20knew%20his%20famous%20father%2C%20boxing%20champion%20Apollo%20Creed%2C%20who%20died%20before%20Adonis%20was%20born.%20However%2C%20boxing%20is%20in%20his%20blood%2C%20so%20he%20seeks%20out%20Rocky%20Balboa%20(Sylvester%20Stallone)%20and%20asks%20the%20retired%20champ%20to%20be%20his%20trainer.%20Rocky%20sees%20much%20of%20Apollo%20in%20Adonis%2C%20and%20agrees%20to%20mentor%20him%2C%20even%20as%20he%20battles%20an%20opponent%20deadlier%20than%20any%20in%20the%20ring.%20With%20Rocky%27s%20help%2C%20Adonis%20soon%20gets%20a%20title%20shot%2C%20but%20whether%20he%20has%20the%20true%20heart%20of%20a%20fighter%20remains%20to%20be%20seen. HTTP/1.1\u001b[0m\" 200 -\n",
            "127.0.0.1 - - [18/Oct/2022 19:21:43] \"\u001b[37mGET /get?msg=Raj%20and%20Simran%20meet%20during%20a%20trip%20across%20Europe%20and%20the%20two%20fall%20in%20love.%20However%2C%20when%20Raj%20learns%20that%20Simran%20is%20already%20promised%20to%20another%2C%20he%20follows%20her%20to%20India%20to%20win%20her%20and%20her%20father%20over. HTTP/1.1\u001b[0m\" 200 -\n",
            "^C\n"
          ]
        }
      ]
    },
    {
      "cell_type": "markdown",
      "source": [
        "## Client app Screenshots\n",
        "\n",
        "Here we write the summary in the chat and it replies with genres\n",
        "![GUI_distilbert.png](data:image/png;base64,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)"
      ],
      "metadata": {
        "id": "bCG5V1_7QhcX"
      }
    },
    {
      "cell_type": "markdown",
      "source": [
        "## Conclusion\n",
        "\n",
        "\n",
        "---\n",
        "\n",
        "1. In this project we achive 75% validation precison and 98% validation accuracy\n",
        "2. We served the model using tensorflow model serve\n",
        "3. We create a client for user to interact using Flask\n"
      ],
      "metadata": {
        "id": "x_OE2EfdRNDl"
      }
    }
  ]
}